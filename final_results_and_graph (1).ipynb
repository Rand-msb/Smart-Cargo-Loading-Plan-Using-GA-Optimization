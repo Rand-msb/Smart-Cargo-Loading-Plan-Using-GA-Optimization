{
  "cells": [
    {
      "cell_type": "markdown",
      "source": [
        "## **IT426**\n",
        "---\n",
        "### Artificial Intelligence Systems\n",
        "### Project Phase#2\n",
        "### Smart Cargo Loading Plan Using GA Optimization\n",
        "---\n",
        "#### presented by **Group#4** Members:\n",
        "##### Manar Bin Mutaieb \n",
        "##### Ghadeer AlMaymoon \n",
        "##### Randa Bakhashwain\n",
        "##### Manar AlMalki \n",
        "\n"
      ],
      "metadata": {
        "id": "4KD3VLtsBkES"
      }
    },
    {
      "cell_type": "markdown",
      "source": [
        "**1.Import needed Libraries**"
      ],
      "metadata": {
        "id": "_QIu4JB1DPyi"
      }
    },
    {
      "cell_type": "code",
      "execution_count": 1,
      "metadata": {
        "id": "n5r5pd8Ni2Gz"
      },
      "outputs": [],
      "source": [
        "import random as rnd\n",
        "import numpy as np\n",
        "import pandas as pd\n",
        "import matplotlib.pyplot as plt\n",
        "import plotly.graph_objects as go\n",
        "import statistics\n",
        "import math"
      ]
    },
    {
      "cell_type": "markdown",
      "source": [
        "**------------------------Final Results------------------------**"
      ],
      "metadata": {
        "id": "Ii41J8akXUEx"
      }
    },
    {
      "cell_type": "code",
      "source": [
        "ExpirmentsResultsInstance1List = []\n",
        "ExpirmentsResultsInstance2List = []"
      ],
      "metadata": {
        "id": "77Tc7-qWsmSt"
      },
      "execution_count": 2,
      "outputs": []
    },
    {
      "cell_type": "code",
      "source": [
        "#Expermint 1 - instance 1:\n",
        "bestFitnessValueListExp1ins1 = [1289.0,100.0,100.0,100.0,1015.0]\n",
        "TrailsTable = pd.DataFrame(bestFitnessValueListExp1ins1, columns=['bestFitnessValue'])\n",
        "TrailsTable['bestFitnessValue'] = TrailsTable['bestFitnessValue'].apply('{:0<4}'.format)\n",
        "print(TrailsTable)\n",
        "bestFitnessValueAvg = statistics.mean(pd.to_numeric(TrailsTable['bestFitnessValue']))\n",
        "ExpirmentsResultsInstance1List.append([\"Ex_1\", bestFitnessValueAvg])"
      ],
      "metadata": {
        "colab": {
          "base_uri": "https://localhost:8080/"
        },
        "id": "4bz1Ns0Npood",
        "outputId": "76242003-c7a0-405b-c299-6da931b038f9"
      },
      "execution_count": 3,
      "outputs": [
        {
          "output_type": "stream",
          "name": "stdout",
          "text": [
            "  bestFitnessValue\n",
            "0           1289.0\n",
            "1            100.0\n",
            "2            100.0\n",
            "3            100.0\n",
            "4           1015.0\n"
          ]
        }
      ]
    },
    {
      "cell_type": "code",
      "source": [
        "#Expermint 1 - instance 2:\n",
        "bestFitnessValueListExp1ins2 = [235727.0,253774.0,1038571.0,237089.0,236485.0]\n",
        "TrailsTable = pd.DataFrame(bestFitnessValueListExp1ins2, columns=['bestFitnessValue'])\n",
        "TrailsTable['bestFitnessValue'] = TrailsTable['bestFitnessValue'].apply('{:0<4}'.format)\n",
        "print(TrailsTable)\n",
        "bestFitnessValueAvg = statistics.mean(pd.to_numeric(TrailsTable['bestFitnessValue']))\n",
        "ExpirmentsResultsInstance2List.append([\"Ex_1\", bestFitnessValueAvg])"
      ],
      "metadata": {
        "colab": {
          "base_uri": "https://localhost:8080/"
        },
        "id": "1ZkwK3rZszCj",
        "outputId": "3eff37ac-a027-4969-9f69-98aa46e31956"
      },
      "execution_count": 4,
      "outputs": [
        {
          "output_type": "stream",
          "name": "stdout",
          "text": [
            "  bestFitnessValue\n",
            "0         235727.0\n",
            "1         253774.0\n",
            "2        1038571.0\n",
            "3         237089.0\n",
            "4         236485.0\n"
          ]
        }
      ]
    },
    {
      "cell_type": "code",
      "source": [
        "#Expermint 2 - instance 1:\n",
        "bestFitnessValueListExp2ins1 = [1032.0,1019.0,1014.0,1065.0,1079.0]\n",
        "TrailsTable = pd.DataFrame(bestFitnessValueListExp2ins1, columns=['bestFitnessValue'])\n",
        "TrailsTable['bestFitnessValue'] = TrailsTable['bestFitnessValue'].apply('{:0<4}'.format)\n",
        "print(TrailsTable)\n",
        "bestFitnessValueAvg = statistics.mean(pd.to_numeric(TrailsTable['bestFitnessValue']))\n",
        "ExpirmentsResultsInstance1List.append([\"Ex_2\", bestFitnessValueAvg])"
      ],
      "metadata": {
        "colab": {
          "base_uri": "https://localhost:8080/"
        },
        "id": "n5Szcwnhtzz7",
        "outputId": "c7d8a649-e24f-44e9-f531-0776f6d03fe7"
      },
      "execution_count": 5,
      "outputs": [
        {
          "output_type": "stream",
          "name": "stdout",
          "text": [
            "  bestFitnessValue\n",
            "0           1032.0\n",
            "1           1019.0\n",
            "2           1014.0\n",
            "3           1065.0\n",
            "4           1079.0\n"
          ]
        }
      ]
    },
    {
      "cell_type": "code",
      "source": [
        "#Expermint 2 - instance 2:\n",
        "bestFitnessValueListExp2ins2 = [281775.0,298364.0,1000590.0,287797.0,270991.0]\n",
        "TrailsTable = pd.DataFrame(bestFitnessValueListExp2ins2, columns=['bestFitnessValue'])\n",
        "TrailsTable['bestFitnessValue'] = TrailsTable['bestFitnessValue'].apply('{:0<4}'.format)\n",
        "print(TrailsTable)\n",
        "bestFitnessValueAvg = statistics.mean(pd.to_numeric(TrailsTable['bestFitnessValue']))\n",
        "ExpirmentsResultsInstance2List.append([\"Ex_2\", bestFitnessValueAvg])"
      ],
      "metadata": {
        "colab": {
          "base_uri": "https://localhost:8080/"
        },
        "id": "qzEo9hmvud8E",
        "outputId": "83448a3e-75b0-4f41-a462-8daf7e846501"
      },
      "execution_count": 6,
      "outputs": [
        {
          "output_type": "stream",
          "name": "stdout",
          "text": [
            "  bestFitnessValue\n",
            "0         281775.0\n",
            "1         298364.0\n",
            "2        1000590.0\n",
            "3         287797.0\n",
            "4         270991.0\n"
          ]
        }
      ]
    },
    {
      "cell_type": "code",
      "source": [
        "#Expermint 3 - instance 1:\n",
        "bestFitnessValueListExp3ins1 = [1094.0,1098.0,1071.0,1070.0,1110.0]\n",
        "TrailsTable = pd.DataFrame(bestFitnessValueListExp3ins1, columns=['bestFitnessValue'])\n",
        "TrailsTable['bestFitnessValue'] = TrailsTable['bestFitnessValue'].apply('{:0<4}'.format)\n",
        "print(TrailsTable)\n",
        "bestFitnessValueAvg = statistics.mean(pd.to_numeric(TrailsTable['bestFitnessValue']))\n",
        "ExpirmentsResultsInstance1List.append([\"Ex_3\", bestFitnessValueAvg])"
      ],
      "metadata": {
        "id": "_tLuz4XdulUg",
        "colab": {
          "base_uri": "https://localhost:8080/"
        },
        "outputId": "1f1760a2-9ef0-489f-e885-d5b84da632ec"
      },
      "execution_count": 7,
      "outputs": [
        {
          "output_type": "stream",
          "name": "stdout",
          "text": [
            "  bestFitnessValue\n",
            "0           1094.0\n",
            "1           1098.0\n",
            "2           1071.0\n",
            "3           1070.0\n",
            "4           1110.0\n"
          ]
        }
      ]
    },
    {
      "cell_type": "code",
      "source": [
        "#Expermint 3 - instance 2:\n",
        "bestFitnessValueListExp3ins2 = [295750.0,291239.0,291992.0,291859.0,300258.0]\n",
        "TrailsTable = pd.DataFrame(bestFitnessValueListExp3ins2, columns=['bestFitnessValue'])\n",
        "TrailsTable['bestFitnessValue'] = TrailsTable['bestFitnessValue'].apply('{:0<4}'.format)\n",
        "print(TrailsTable)\n",
        "bestFitnessValueAvg = statistics.mean(pd.to_numeric(TrailsTable['bestFitnessValue']))\n",
        "ExpirmentsResultsInstance2List.append([\"Ex_3\", bestFitnessValueAvg])"
      ],
      "metadata": {
        "id": "qNq0_ISRvKCC",
        "colab": {
          "base_uri": "https://localhost:8080/"
        },
        "outputId": "22f089d9-ab1e-4fb3-e5a1-00291d2996b9"
      },
      "execution_count": 8,
      "outputs": [
        {
          "output_type": "stream",
          "name": "stdout",
          "text": [
            "  bestFitnessValue\n",
            "0         295750.0\n",
            "1         291239.0\n",
            "2         291992.0\n",
            "3         291859.0\n",
            "4         300258.0\n"
          ]
        }
      ]
    },
    {
      "cell_type": "code",
      "source": [
        "#Expermint 4 - instance 1:\n",
        "bestFitnessValueListExp4ins1 = [1120.0,1035.0,1026.0,1091.0,1000.0]\n",
        "TrailsTable = pd.DataFrame(bestFitnessValueListExp4ins1, columns=['bestFitnessValue'])\n",
        "TrailsTable['bestFitnessValue'] = TrailsTable['bestFitnessValue'].apply('{:0<4}'.format)\n",
        "print(TrailsTable)\n",
        "bestFitnessValueAvg = statistics.mean(pd.to_numeric(TrailsTable['bestFitnessValue']))\n",
        "ExpirmentsResultsInstance1List.append([\"Ex_4\", bestFitnessValueAvg])"
      ],
      "metadata": {
        "id": "fyWIXBxtvfUy",
        "colab": {
          "base_uri": "https://localhost:8080/"
        },
        "outputId": "82cbd3b2-8425-49ce-ca82-b9ca36376a8e"
      },
      "execution_count": 9,
      "outputs": [
        {
          "output_type": "stream",
          "name": "stdout",
          "text": [
            "  bestFitnessValue\n",
            "0           1120.0\n",
            "1           1035.0\n",
            "2           1026.0\n",
            "3           1091.0\n",
            "4           1000.0\n"
          ]
        }
      ]
    },
    {
      "cell_type": "code",
      "source": [
        "#Expermint 4 - instance 2:\n",
        "bestFitnessValueListExp4ins2 = [431833.0,430271.0,1020523.0,406479.0,1009773.0]\n",
        "TrailsTable = pd.DataFrame(bestFitnessValueListExp4ins2, columns=['bestFitnessValue'])\n",
        "TrailsTable['bestFitnessValue'] = TrailsTable['bestFitnessValue'].apply('{:0<4}'.format)\n",
        "print(TrailsTable)\n",
        "bestFitnessValueAvg = statistics.mean(pd.to_numeric(TrailsTable['bestFitnessValue']))\n",
        "ExpirmentsResultsInstance2List.append([\"Ex_4\", bestFitnessValueAvg])"
      ],
      "metadata": {
        "id": "8TVaZLoFwAvQ",
        "colab": {
          "base_uri": "https://localhost:8080/"
        },
        "outputId": "47360f44-3387-4f56-ead6-96673c7944fd"
      },
      "execution_count": 10,
      "outputs": [
        {
          "output_type": "stream",
          "name": "stdout",
          "text": [
            "  bestFitnessValue\n",
            "0         431833.0\n",
            "1         430271.0\n",
            "2        1020523.0\n",
            "3         406479.0\n",
            "4        1009773.0\n"
          ]
        }
      ]
    },
    {
      "cell_type": "code",
      "source": [
        "#Expermint 5 - instance 1:\n",
        "bestFitnessValueListExp5ins1 = [494.0,1575.0,2329.0,1677.0,646.0]\n",
        "TrailsTable = pd.DataFrame(bestFitnessValueListExp5ins1, columns=['bestFitnessValue'])\n",
        "TrailsTable['bestFitnessValue'] = TrailsTable['bestFitnessValue'].apply('{:0<4}'.format)\n",
        "print(TrailsTable)\n",
        "bestFitnessValueAvg = statistics.mean(pd.to_numeric(TrailsTable['bestFitnessValue']))\n",
        "ExpirmentsResultsInstance1List.append([\"Ex_5\", bestFitnessValueAvg])"
      ],
      "metadata": {
        "id": "seXXAxljwLBc",
        "colab": {
          "base_uri": "https://localhost:8080/"
        },
        "outputId": "4b0f3f52-12c3-4c86-82ce-b780f1b87c68"
      },
      "execution_count": 11,
      "outputs": [
        {
          "output_type": "stream",
          "name": "stdout",
          "text": [
            "  bestFitnessValue\n",
            "0            494.0\n",
            "1           1575.0\n",
            "2           2329.0\n",
            "3           1677.0\n",
            "4            646.0\n"
          ]
        }
      ]
    },
    {
      "cell_type": "code",
      "source": [
        "#Expermint 5 - instance 2:\n",
        "bestFitnessValueListExp5ins2 = [808020.0,806836.0,806233.0,773344.0,766064.0]\n",
        "TrailsTable = pd.DataFrame(bestFitnessValueListExp5ins2, columns=['bestFitnessValue'])\n",
        "TrailsTable['bestFitnessValue'] = TrailsTable['bestFitnessValue'].apply('{:0<4}'.format)\n",
        "print(TrailsTable)\n",
        "bestFitnessValueAvg = statistics.mean(pd.to_numeric(TrailsTable['bestFitnessValue']))\n",
        "ExpirmentsResultsInstance2List.append([\"Ex_5\", bestFitnessValueAvg])"
      ],
      "metadata": {
        "id": "Wbdhtc02wWzj",
        "colab": {
          "base_uri": "https://localhost:8080/"
        },
        "outputId": "5f898350-c7bc-44f2-9524-7790ab4b72ea"
      },
      "execution_count": 12,
      "outputs": [
        {
          "output_type": "stream",
          "name": "stdout",
          "text": [
            "  bestFitnessValue\n",
            "0         808020.0\n",
            "1         806836.0\n",
            "2         806233.0\n",
            "3         773344.0\n",
            "4         766064.0\n"
          ]
        }
      ]
    },
    {
      "cell_type": "code",
      "source": [
        "#Expermint 6 - instance 1:\n",
        "bestFitnessValueListExp6ins1 = [1045.0,1062.0,1171.0,1043.0,1252.0]\n",
        "TrailsTable = pd.DataFrame(bestFitnessValueListExp6ins1, columns=['bestFitnessValue'])\n",
        "TrailsTable['bestFitnessValue'] = TrailsTable['bestFitnessValue'].apply('{:0<4}'.format)\n",
        "print(TrailsTable)\n",
        "bestFitnessValueAvg = statistics.mean(pd.to_numeric(TrailsTable['bestFitnessValue']))\n",
        "ExpirmentsResultsInstance1List.append([\"Ex_6\", bestFitnessValueAvg])"
      ],
      "metadata": {
        "colab": {
          "base_uri": "https://localhost:8080/"
        },
        "id": "UMzr5jnxxmg9",
        "outputId": "4ee5626d-07fc-497d-e7d3-af08e50f0071"
      },
      "execution_count": 13,
      "outputs": [
        {
          "output_type": "stream",
          "name": "stdout",
          "text": [
            "  bestFitnessValue\n",
            "0           1045.0\n",
            "1           1062.0\n",
            "2           1171.0\n",
            "3           1043.0\n",
            "4           1252.0\n"
          ]
        }
      ]
    },
    {
      "cell_type": "code",
      "source": [
        "#Expermint 6 - instance 2:\n",
        "bestFitnessValueListExp6ins2 = [791818.0,1022095.0,776933.0,749210.0,768515.0]\n",
        "TrailsTable = pd.DataFrame(bestFitnessValueListExp6ins2, columns=['bestFitnessValue'])\n",
        "TrailsTable['bestFitnessValue'] = TrailsTable['bestFitnessValue'].apply('{:0<4}'.format)\n",
        "print(TrailsTable)\n",
        "bestFitnessValueAvg = statistics.mean(pd.to_numeric(TrailsTable['bestFitnessValue']))\n",
        "ExpirmentsResultsInstance2List.append([\"Ex_6\", bestFitnessValueAvg])"
      ],
      "metadata": {
        "colab": {
          "base_uri": "https://localhost:8080/"
        },
        "id": "lCAubjnYxeFI",
        "outputId": "d0a17220-ce64-4839-ec05-7cad969b2ba4"
      },
      "execution_count": 14,
      "outputs": [
        {
          "output_type": "stream",
          "name": "stdout",
          "text": [
            "  bestFitnessValue\n",
            "0         791818.0\n",
            "1        1022095.0\n",
            "2         776933.0\n",
            "3         749210.0\n",
            "4         768515.0\n"
          ]
        }
      ]
    },
    {
      "cell_type": "markdown",
      "source": [
        "**-------------------------------Instance 1 Results-------------------------------**"
      ],
      "metadata": {
        "id": "CmnTdgl0my4x"
      }
    },
    {
      "cell_type": "code",
      "source": [
        "print('=================Expirments Instance 1 Table=================')\n",
        "ExpirmentsTable1 = pd.DataFrame(ExpirmentsResultsInstance1List, columns=('ExpirmentNumber', 'averageFitnessValue'))\n",
        "ExpirmentsTable1['averageFitnessValue'] = ExpirmentsTable1['averageFitnessValue'].apply('{:0<4}'.format)\n",
        "ExpirmentsTable1.style"
      ],
      "metadata": {
        "id": "I4hAeh5lTUBg",
        "colab": {
          "base_uri": "https://localhost:8080/",
          "height": 255
        },
        "outputId": "2d3ba680-f3bf-4902-fc86-fc59377c1f88"
      },
      "execution_count": 15,
      "outputs": [
        {
          "output_type": "stream",
          "name": "stdout",
          "text": [
            "=================Expirments Instance 1 Table=================\n"
          ]
        },
        {
          "output_type": "execute_result",
          "data": {
            "text/plain": [
              "<pandas.io.formats.style.Styler at 0x7f9730a9abd0>"
            ],
            "text/html": [
              "<style type=\"text/css\">\n",
              "</style>\n",
              "<table id=\"T_05cb7_\" class=\"dataframe\">\n",
              "  <thead>\n",
              "    <tr>\n",
              "      <th class=\"blank level0\" >&nbsp;</th>\n",
              "      <th class=\"col_heading level0 col0\" >ExpirmentNumber</th>\n",
              "      <th class=\"col_heading level0 col1\" >averageFitnessValue</th>\n",
              "    </tr>\n",
              "  </thead>\n",
              "  <tbody>\n",
              "    <tr>\n",
              "      <th id=\"T_05cb7_level0_row0\" class=\"row_heading level0 row0\" >0</th>\n",
              "      <td id=\"T_05cb7_row0_col0\" class=\"data row0 col0\" >Ex_1</td>\n",
              "      <td id=\"T_05cb7_row0_col1\" class=\"data row0 col1\" >520.8</td>\n",
              "    </tr>\n",
              "    <tr>\n",
              "      <th id=\"T_05cb7_level0_row1\" class=\"row_heading level0 row1\" >1</th>\n",
              "      <td id=\"T_05cb7_row1_col0\" class=\"data row1 col0\" >Ex_2</td>\n",
              "      <td id=\"T_05cb7_row1_col1\" class=\"data row1 col1\" >1041.8</td>\n",
              "    </tr>\n",
              "    <tr>\n",
              "      <th id=\"T_05cb7_level0_row2\" class=\"row_heading level0 row2\" >2</th>\n",
              "      <td id=\"T_05cb7_row2_col0\" class=\"data row2 col0\" >Ex_3</td>\n",
              "      <td id=\"T_05cb7_row2_col1\" class=\"data row2 col1\" >1088.6</td>\n",
              "    </tr>\n",
              "    <tr>\n",
              "      <th id=\"T_05cb7_level0_row3\" class=\"row_heading level0 row3\" >3</th>\n",
              "      <td id=\"T_05cb7_row3_col0\" class=\"data row3 col0\" >Ex_4</td>\n",
              "      <td id=\"T_05cb7_row3_col1\" class=\"data row3 col1\" >1054.4</td>\n",
              "    </tr>\n",
              "    <tr>\n",
              "      <th id=\"T_05cb7_level0_row4\" class=\"row_heading level0 row4\" >4</th>\n",
              "      <td id=\"T_05cb7_row4_col0\" class=\"data row4 col0\" >Ex_5</td>\n",
              "      <td id=\"T_05cb7_row4_col1\" class=\"data row4 col1\" >1344.2</td>\n",
              "    </tr>\n",
              "    <tr>\n",
              "      <th id=\"T_05cb7_level0_row5\" class=\"row_heading level0 row5\" >5</th>\n",
              "      <td id=\"T_05cb7_row5_col0\" class=\"data row5 col0\" >Ex_6</td>\n",
              "      <td id=\"T_05cb7_row5_col1\" class=\"data row5 col1\" >1114.6</td>\n",
              "    </tr>\n",
              "  </tbody>\n",
              "</table>\n"
            ]
          },
          "metadata": {},
          "execution_count": 15
        }
      ]
    },
    {
      "cell_type": "code",
      "source": [
        "#to graph the results of all expirments we used the code from the following link: \n",
        "ExpirmentsTable1['averageFitnessValue'] = ExpirmentsTable1['averageFitnessValue'].astype(float)\n",
        "fig = go.Figure()\n",
        "\n",
        "fig.add_trace(go.Scatter(\n",
        "    x=ExpirmentsTable1['ExpirmentNumber'],\n",
        "    y= ExpirmentsTable1['averageFitnessValue']\n",
        "))\n",
        "\n",
        "fig.update_layout(\n",
        "    template=\"plotly_white\", #\"plotly\", \"plotly_white\", \"plotly_dark\", \"ggplot2\", \"seaborn\", \"simple_white\"\n",
        "    title=\"averageFitnessValue vs Expirment\",\n",
        "    autosize=False,\n",
        "    width=500,\n",
        "    height=500,\n",
        "    margin=dict(\n",
        "        l=50,\n",
        "        r=50,\n",
        "        b=100,\n",
        "        t=100,\n",
        "        pad=4\n",
        "    ),\n",
        "    #paper_bgcolor=\"LightSteelBlue\",\n",
        ")\n",
        "\n",
        "fig.show()"
      ],
      "metadata": {
        "colab": {
          "base_uri": "https://localhost:8080/",
          "height": 517
        },
        "id": "hZsH47ifidbs",
        "outputId": "b390ad9b-78e8-4581-9676-a0eadc80bde4"
      },
      "execution_count": 16,
      "outputs": [
        {
          "output_type": "display_data",
          "data": {
            "text/html": [
              "<html>\n",
              "<head><meta charset=\"utf-8\" /></head>\n",
              "<body>\n",
              "    <div>            <script src=\"https://cdnjs.cloudflare.com/ajax/libs/mathjax/2.7.5/MathJax.js?config=TeX-AMS-MML_SVG\"></script><script type=\"text/javascript\">if (window.MathJax) {MathJax.Hub.Config({SVG: {font: \"STIX-Web\"}});}</script>                <script type=\"text/javascript\">window.PlotlyConfig = {MathJaxConfig: 'local'};</script>\n",
              "        <script src=\"https://cdn.plot.ly/plotly-2.8.3.min.js\"></script>                <div id=\"e89ece50-3dab-4e57-8a9b-51dc2190123b\" class=\"plotly-graph-div\" style=\"height:500px; width:500px;\"></div>            <script type=\"text/javascript\">                                    window.PLOTLYENV=window.PLOTLYENV || {};                                    if (document.getElementById(\"e89ece50-3dab-4e57-8a9b-51dc2190123b\")) {                    Plotly.newPlot(                        \"e89ece50-3dab-4e57-8a9b-51dc2190123b\",                        [{\"x\":[\"Ex_1\",\"Ex_2\",\"Ex_3\",\"Ex_4\",\"Ex_5\",\"Ex_6\"],\"y\":[520.8,1041.8,1088.6,1054.4,1344.2,1114.6],\"type\":\"scatter\"}],                        {\"template\":{\"data\":{\"barpolar\":[{\"marker\":{\"line\":{\"color\":\"white\",\"width\":0.5},\"pattern\":{\"fillmode\":\"overlay\",\"size\":10,\"solidity\":0.2}},\"type\":\"barpolar\"}],\"bar\":[{\"error_x\":{\"color\":\"#2a3f5f\"},\"error_y\":{\"color\":\"#2a3f5f\"},\"marker\":{\"line\":{\"color\":\"white\",\"width\":0.5},\"pattern\":{\"fillmode\":\"overlay\",\"size\":10,\"solidity\":0.2}},\"type\":\"bar\"}],\"carpet\":[{\"aaxis\":{\"endlinecolor\":\"#2a3f5f\",\"gridcolor\":\"#C8D4E3\",\"linecolor\":\"#C8D4E3\",\"minorgridcolor\":\"#C8D4E3\",\"startlinecolor\":\"#2a3f5f\"},\"baxis\":{\"endlinecolor\":\"#2a3f5f\",\"gridcolor\":\"#C8D4E3\",\"linecolor\":\"#C8D4E3\",\"minorgridcolor\":\"#C8D4E3\",\"startlinecolor\":\"#2a3f5f\"},\"type\":\"carpet\"}],\"choropleth\":[{\"colorbar\":{\"outlinewidth\":0,\"ticks\":\"\"},\"type\":\"choropleth\"}],\"contourcarpet\":[{\"colorbar\":{\"outlinewidth\":0,\"ticks\":\"\"},\"type\":\"contourcarpet\"}],\"contour\":[{\"colorbar\":{\"outlinewidth\":0,\"ticks\":\"\"},\"colorscale\":[[0.0,\"#0d0887\"],[0.1111111111111111,\"#46039f\"],[0.2222222222222222,\"#7201a8\"],[0.3333333333333333,\"#9c179e\"],[0.4444444444444444,\"#bd3786\"],[0.5555555555555556,\"#d8576b\"],[0.6666666666666666,\"#ed7953\"],[0.7777777777777778,\"#fb9f3a\"],[0.8888888888888888,\"#fdca26\"],[1.0,\"#f0f921\"]],\"type\":\"contour\"}],\"heatmapgl\":[{\"colorbar\":{\"outlinewidth\":0,\"ticks\":\"\"},\"colorscale\":[[0.0,\"#0d0887\"],[0.1111111111111111,\"#46039f\"],[0.2222222222222222,\"#7201a8\"],[0.3333333333333333,\"#9c179e\"],[0.4444444444444444,\"#bd3786\"],[0.5555555555555556,\"#d8576b\"],[0.6666666666666666,\"#ed7953\"],[0.7777777777777778,\"#fb9f3a\"],[0.8888888888888888,\"#fdca26\"],[1.0,\"#f0f921\"]],\"type\":\"heatmapgl\"}],\"heatmap\":[{\"colorbar\":{\"outlinewidth\":0,\"ticks\":\"\"},\"colorscale\":[[0.0,\"#0d0887\"],[0.1111111111111111,\"#46039f\"],[0.2222222222222222,\"#7201a8\"],[0.3333333333333333,\"#9c179e\"],[0.4444444444444444,\"#bd3786\"],[0.5555555555555556,\"#d8576b\"],[0.6666666666666666,\"#ed7953\"],[0.7777777777777778,\"#fb9f3a\"],[0.8888888888888888,\"#fdca26\"],[1.0,\"#f0f921\"]],\"type\":\"heatmap\"}],\"histogram2dcontour\":[{\"colorbar\":{\"outlinewidth\":0,\"ticks\":\"\"},\"colorscale\":[[0.0,\"#0d0887\"],[0.1111111111111111,\"#46039f\"],[0.2222222222222222,\"#7201a8\"],[0.3333333333333333,\"#9c179e\"],[0.4444444444444444,\"#bd3786\"],[0.5555555555555556,\"#d8576b\"],[0.6666666666666666,\"#ed7953\"],[0.7777777777777778,\"#fb9f3a\"],[0.8888888888888888,\"#fdca26\"],[1.0,\"#f0f921\"]],\"type\":\"histogram2dcontour\"}],\"histogram2d\":[{\"colorbar\":{\"outlinewidth\":0,\"ticks\":\"\"},\"colorscale\":[[0.0,\"#0d0887\"],[0.1111111111111111,\"#46039f\"],[0.2222222222222222,\"#7201a8\"],[0.3333333333333333,\"#9c179e\"],[0.4444444444444444,\"#bd3786\"],[0.5555555555555556,\"#d8576b\"],[0.6666666666666666,\"#ed7953\"],[0.7777777777777778,\"#fb9f3a\"],[0.8888888888888888,\"#fdca26\"],[1.0,\"#f0f921\"]],\"type\":\"histogram2d\"}],\"histogram\":[{\"marker\":{\"pattern\":{\"fillmode\":\"overlay\",\"size\":10,\"solidity\":0.2}},\"type\":\"histogram\"}],\"mesh3d\":[{\"colorbar\":{\"outlinewidth\":0,\"ticks\":\"\"},\"type\":\"mesh3d\"}],\"parcoords\":[{\"line\":{\"colorbar\":{\"outlinewidth\":0,\"ticks\":\"\"}},\"type\":\"parcoords\"}],\"pie\":[{\"automargin\":true,\"type\":\"pie\"}],\"scatter3d\":[{\"line\":{\"colorbar\":{\"outlinewidth\":0,\"ticks\":\"\"}},\"marker\":{\"colorbar\":{\"outlinewidth\":0,\"ticks\":\"\"}},\"type\":\"scatter3d\"}],\"scattercarpet\":[{\"marker\":{\"colorbar\":{\"outlinewidth\":0,\"ticks\":\"\"}},\"type\":\"scattercarpet\"}],\"scattergeo\":[{\"marker\":{\"colorbar\":{\"outlinewidth\":0,\"ticks\":\"\"}},\"type\":\"scattergeo\"}],\"scattergl\":[{\"marker\":{\"colorbar\":{\"outlinewidth\":0,\"ticks\":\"\"}},\"type\":\"scattergl\"}],\"scattermapbox\":[{\"marker\":{\"colorbar\":{\"outlinewidth\":0,\"ticks\":\"\"}},\"type\":\"scattermapbox\"}],\"scatterpolargl\":[{\"marker\":{\"colorbar\":{\"outlinewidth\":0,\"ticks\":\"\"}},\"type\":\"scatterpolargl\"}],\"scatterpolar\":[{\"marker\":{\"colorbar\":{\"outlinewidth\":0,\"ticks\":\"\"}},\"type\":\"scatterpolar\"}],\"scatter\":[{\"marker\":{\"colorbar\":{\"outlinewidth\":0,\"ticks\":\"\"}},\"type\":\"scatter\"}],\"scatterternary\":[{\"marker\":{\"colorbar\":{\"outlinewidth\":0,\"ticks\":\"\"}},\"type\":\"scatterternary\"}],\"surface\":[{\"colorbar\":{\"outlinewidth\":0,\"ticks\":\"\"},\"colorscale\":[[0.0,\"#0d0887\"],[0.1111111111111111,\"#46039f\"],[0.2222222222222222,\"#7201a8\"],[0.3333333333333333,\"#9c179e\"],[0.4444444444444444,\"#bd3786\"],[0.5555555555555556,\"#d8576b\"],[0.6666666666666666,\"#ed7953\"],[0.7777777777777778,\"#fb9f3a\"],[0.8888888888888888,\"#fdca26\"],[1.0,\"#f0f921\"]],\"type\":\"surface\"}],\"table\":[{\"cells\":{\"fill\":{\"color\":\"#EBF0F8\"},\"line\":{\"color\":\"white\"}},\"header\":{\"fill\":{\"color\":\"#C8D4E3\"},\"line\":{\"color\":\"white\"}},\"type\":\"table\"}]},\"layout\":{\"annotationdefaults\":{\"arrowcolor\":\"#2a3f5f\",\"arrowhead\":0,\"arrowwidth\":1},\"autotypenumbers\":\"strict\",\"coloraxis\":{\"colorbar\":{\"outlinewidth\":0,\"ticks\":\"\"}},\"colorscale\":{\"diverging\":[[0,\"#8e0152\"],[0.1,\"#c51b7d\"],[0.2,\"#de77ae\"],[0.3,\"#f1b6da\"],[0.4,\"#fde0ef\"],[0.5,\"#f7f7f7\"],[0.6,\"#e6f5d0\"],[0.7,\"#b8e186\"],[0.8,\"#7fbc41\"],[0.9,\"#4d9221\"],[1,\"#276419\"]],\"sequential\":[[0.0,\"#0d0887\"],[0.1111111111111111,\"#46039f\"],[0.2222222222222222,\"#7201a8\"],[0.3333333333333333,\"#9c179e\"],[0.4444444444444444,\"#bd3786\"],[0.5555555555555556,\"#d8576b\"],[0.6666666666666666,\"#ed7953\"],[0.7777777777777778,\"#fb9f3a\"],[0.8888888888888888,\"#fdca26\"],[1.0,\"#f0f921\"]],\"sequentialminus\":[[0.0,\"#0d0887\"],[0.1111111111111111,\"#46039f\"],[0.2222222222222222,\"#7201a8\"],[0.3333333333333333,\"#9c179e\"],[0.4444444444444444,\"#bd3786\"],[0.5555555555555556,\"#d8576b\"],[0.6666666666666666,\"#ed7953\"],[0.7777777777777778,\"#fb9f3a\"],[0.8888888888888888,\"#fdca26\"],[1.0,\"#f0f921\"]]},\"colorway\":[\"#636efa\",\"#EF553B\",\"#00cc96\",\"#ab63fa\",\"#FFA15A\",\"#19d3f3\",\"#FF6692\",\"#B6E880\",\"#FF97FF\",\"#FECB52\"],\"font\":{\"color\":\"#2a3f5f\"},\"geo\":{\"bgcolor\":\"white\",\"lakecolor\":\"white\",\"landcolor\":\"white\",\"showlakes\":true,\"showland\":true,\"subunitcolor\":\"#C8D4E3\"},\"hoverlabel\":{\"align\":\"left\"},\"hovermode\":\"closest\",\"mapbox\":{\"style\":\"light\"},\"paper_bgcolor\":\"white\",\"plot_bgcolor\":\"white\",\"polar\":{\"angularaxis\":{\"gridcolor\":\"#EBF0F8\",\"linecolor\":\"#EBF0F8\",\"ticks\":\"\"},\"bgcolor\":\"white\",\"radialaxis\":{\"gridcolor\":\"#EBF0F8\",\"linecolor\":\"#EBF0F8\",\"ticks\":\"\"}},\"scene\":{\"xaxis\":{\"backgroundcolor\":\"white\",\"gridcolor\":\"#DFE8F3\",\"gridwidth\":2,\"linecolor\":\"#EBF0F8\",\"showbackground\":true,\"ticks\":\"\",\"zerolinecolor\":\"#EBF0F8\"},\"yaxis\":{\"backgroundcolor\":\"white\",\"gridcolor\":\"#DFE8F3\",\"gridwidth\":2,\"linecolor\":\"#EBF0F8\",\"showbackground\":true,\"ticks\":\"\",\"zerolinecolor\":\"#EBF0F8\"},\"zaxis\":{\"backgroundcolor\":\"white\",\"gridcolor\":\"#DFE8F3\",\"gridwidth\":2,\"linecolor\":\"#EBF0F8\",\"showbackground\":true,\"ticks\":\"\",\"zerolinecolor\":\"#EBF0F8\"}},\"shapedefaults\":{\"line\":{\"color\":\"#2a3f5f\"}},\"ternary\":{\"aaxis\":{\"gridcolor\":\"#DFE8F3\",\"linecolor\":\"#A2B1C6\",\"ticks\":\"\"},\"baxis\":{\"gridcolor\":\"#DFE8F3\",\"linecolor\":\"#A2B1C6\",\"ticks\":\"\"},\"bgcolor\":\"white\",\"caxis\":{\"gridcolor\":\"#DFE8F3\",\"linecolor\":\"#A2B1C6\",\"ticks\":\"\"}},\"title\":{\"x\":0.05},\"xaxis\":{\"automargin\":true,\"gridcolor\":\"#EBF0F8\",\"linecolor\":\"#EBF0F8\",\"ticks\":\"\",\"title\":{\"standoff\":15},\"zerolinecolor\":\"#EBF0F8\",\"zerolinewidth\":2},\"yaxis\":{\"automargin\":true,\"gridcolor\":\"#EBF0F8\",\"linecolor\":\"#EBF0F8\",\"ticks\":\"\",\"title\":{\"standoff\":15},\"zerolinecolor\":\"#EBF0F8\",\"zerolinewidth\":2}}},\"margin\":{\"l\":50,\"r\":50,\"b\":100,\"t\":100,\"pad\":4},\"title\":{\"text\":\"averageFitnessValue vs Expirment\"},\"autosize\":false,\"width\":500,\"height\":500},                        {\"responsive\": true}                    ).then(function(){\n",
              "                            \n",
              "var gd = document.getElementById('e89ece50-3dab-4e57-8a9b-51dc2190123b');\n",
              "var x = new MutationObserver(function (mutations, observer) {{\n",
              "        var display = window.getComputedStyle(gd).display;\n",
              "        if (!display || display === 'none') {{\n",
              "            console.log([gd, 'removed!']);\n",
              "            Plotly.purge(gd);\n",
              "            observer.disconnect();\n",
              "        }}\n",
              "}});\n",
              "\n",
              "// Listen for the removal of the full notebook cells\n",
              "var notebookContainer = gd.closest('#notebook-container');\n",
              "if (notebookContainer) {{\n",
              "    x.observe(notebookContainer, {childList: true});\n",
              "}}\n",
              "\n",
              "// Listen for the clearing of the current output cell\n",
              "var outputEl = gd.closest('.output');\n",
              "if (outputEl) {{\n",
              "    x.observe(outputEl, {childList: true});\n",
              "}}\n",
              "\n",
              "                        })                };                            </script>        </div>\n",
              "</body>\n",
              "</html>"
            ]
          },
          "metadata": {}
        }
      ]
    },
    {
      "cell_type": "code",
      "source": [
        "df=pd.DataFrame({'NumberofTrials': range(1,6), 'Experiment1Trials': bestFitnessValueListExp1ins1,'Experiment2Trials': bestFitnessValueListExp2ins1,'Experiment3Trials': bestFitnessValueListExp3ins1,'Experiment4Trials': bestFitnessValueListExp4ins1,'Experiment5Trials': bestFitnessValueListExp5ins1 ,'Experiment6Trials': bestFitnessValueListExp6ins1})\n",
        "\n",
        "fig = go.Figure()\n",
        "\n",
        "fig.add_trace(go.Scatter(\n",
        "    x=df['NumberofTrials'],\n",
        "    y=df['Experiment1Trials'],\n",
        "    name=\"Experiment1\"\n",
        "))\n",
        "fig.add_trace(go.Scatter(\n",
        "    x=df['NumberofTrials'],\n",
        "    y=df['Experiment2Trials'],\n",
        "    name=\"Experiment2\"\n",
        "))\n",
        "fig.add_trace(go.Scatter(\n",
        "    x=df['NumberofTrials'],\n",
        "    y=df['Experiment3Trials'],\n",
        "    name=\"Experiment3\"\n",
        "))\n",
        "fig.add_trace(go.Scatter(\n",
        "    x=df['NumberofTrials'],\n",
        "    y=df['Experiment4Trials'],\n",
        "    name=\"Experiment4\"\n",
        "))\n",
        "fig.add_trace(go.Scatter(\n",
        "    x=df['NumberofTrials'],\n",
        "    y=df['Experiment5Trials'],\n",
        "    name=\"Experiment5\"\n",
        "))\n",
        "fig.add_trace(go.Scatter(\n",
        "    x=df['NumberofTrials'],\n",
        "    y=df['Experiment6Trials'],\n",
        "    name=\"Experiment6\"\n",
        "    \n",
        "\n",
        "\n",
        "))\n",
        "\n",
        "\n",
        "\n",
        "\n",
        "fig.update_layout(\n",
        "    autosize=False,\n",
        "    template=\"plotly_white\", #\"plotly\", \"plotly_white\", \"plotly_dark\", \"ggplot2\", \"seaborn\", \"simple_white\"\n",
        "    title=\"GA performance\",\n",
        "    width=700,\n",
        "    height=700,\n",
        "    margin=dict(\n",
        "        l=100,\n",
        "        r=100,\n",
        "        b=100,\n",
        "        t=100,\n",
        "        pad=2\n",
        "    ),\n",
        "     yaxis = dict(\n",
        "        \n",
        "        tick0 =0,\n",
        "        dtick =100\n",
        "    ),\n",
        "    #paper_bgcolor=\"LightSteelBlue\",\n",
        "    \n",
        ")\n",
        "fig.update_xaxes(title_text=\"Number of trials\")\n",
        "fig.update_yaxes(title_text=\"Best fitness function\")\n",
        "\n",
        "fig.show()"
      ],
      "metadata": {
        "colab": {
          "base_uri": "https://localhost:8080/",
          "height": 717
        },
        "id": "06xvb1Dg82JQ",
        "outputId": "975b5e50-b4b7-4d2d-a875-6a3e8d45d7f3"
      },
      "execution_count": 17,
      "outputs": [
        {
          "output_type": "display_data",
          "data": {
            "text/html": [
              "<html>\n",
              "<head><meta charset=\"utf-8\" /></head>\n",
              "<body>\n",
              "    <div>            <script src=\"https://cdnjs.cloudflare.com/ajax/libs/mathjax/2.7.5/MathJax.js?config=TeX-AMS-MML_SVG\"></script><script type=\"text/javascript\">if (window.MathJax) {MathJax.Hub.Config({SVG: {font: \"STIX-Web\"}});}</script>                <script type=\"text/javascript\">window.PlotlyConfig = {MathJaxConfig: 'local'};</script>\n",
              "        <script src=\"https://cdn.plot.ly/plotly-2.8.3.min.js\"></script>                <div id=\"e2cb2c94-bdee-46ee-829b-0a4b05c14fd3\" class=\"plotly-graph-div\" style=\"height:700px; width:700px;\"></div>            <script type=\"text/javascript\">                                    window.PLOTLYENV=window.PLOTLYENV || {};                                    if (document.getElementById(\"e2cb2c94-bdee-46ee-829b-0a4b05c14fd3\")) {                    Plotly.newPlot(                        \"e2cb2c94-bdee-46ee-829b-0a4b05c14fd3\",                        [{\"name\":\"Experiment1\",\"x\":[1,2,3,4,5],\"y\":[1289.0,100.0,100.0,100.0,1015.0],\"type\":\"scatter\"},{\"name\":\"Experiment2\",\"x\":[1,2,3,4,5],\"y\":[1032.0,1019.0,1014.0,1065.0,1079.0],\"type\":\"scatter\"},{\"name\":\"Experiment3\",\"x\":[1,2,3,4,5],\"y\":[1094.0,1098.0,1071.0,1070.0,1110.0],\"type\":\"scatter\"},{\"name\":\"Experiment4\",\"x\":[1,2,3,4,5],\"y\":[1120.0,1035.0,1026.0,1091.0,1000.0],\"type\":\"scatter\"},{\"name\":\"Experiment5\",\"x\":[1,2,3,4,5],\"y\":[494.0,1575.0,2329.0,1677.0,646.0],\"type\":\"scatter\"},{\"name\":\"Experiment6\",\"x\":[1,2,3,4,5],\"y\":[1045.0,1062.0,1171.0,1043.0,1252.0],\"type\":\"scatter\"}],                        {\"template\":{\"data\":{\"barpolar\":[{\"marker\":{\"line\":{\"color\":\"white\",\"width\":0.5},\"pattern\":{\"fillmode\":\"overlay\",\"size\":10,\"solidity\":0.2}},\"type\":\"barpolar\"}],\"bar\":[{\"error_x\":{\"color\":\"#2a3f5f\"},\"error_y\":{\"color\":\"#2a3f5f\"},\"marker\":{\"line\":{\"color\":\"white\",\"width\":0.5},\"pattern\":{\"fillmode\":\"overlay\",\"size\":10,\"solidity\":0.2}},\"type\":\"bar\"}],\"carpet\":[{\"aaxis\":{\"endlinecolor\":\"#2a3f5f\",\"gridcolor\":\"#C8D4E3\",\"linecolor\":\"#C8D4E3\",\"minorgridcolor\":\"#C8D4E3\",\"startlinecolor\":\"#2a3f5f\"},\"baxis\":{\"endlinecolor\":\"#2a3f5f\",\"gridcolor\":\"#C8D4E3\",\"linecolor\":\"#C8D4E3\",\"minorgridcolor\":\"#C8D4E3\",\"startlinecolor\":\"#2a3f5f\"},\"type\":\"carpet\"}],\"choropleth\":[{\"colorbar\":{\"outlinewidth\":0,\"ticks\":\"\"},\"type\":\"choropleth\"}],\"contourcarpet\":[{\"colorbar\":{\"outlinewidth\":0,\"ticks\":\"\"},\"type\":\"contourcarpet\"}],\"contour\":[{\"colorbar\":{\"outlinewidth\":0,\"ticks\":\"\"},\"colorscale\":[[0.0,\"#0d0887\"],[0.1111111111111111,\"#46039f\"],[0.2222222222222222,\"#7201a8\"],[0.3333333333333333,\"#9c179e\"],[0.4444444444444444,\"#bd3786\"],[0.5555555555555556,\"#d8576b\"],[0.6666666666666666,\"#ed7953\"],[0.7777777777777778,\"#fb9f3a\"],[0.8888888888888888,\"#fdca26\"],[1.0,\"#f0f921\"]],\"type\":\"contour\"}],\"heatmapgl\":[{\"colorbar\":{\"outlinewidth\":0,\"ticks\":\"\"},\"colorscale\":[[0.0,\"#0d0887\"],[0.1111111111111111,\"#46039f\"],[0.2222222222222222,\"#7201a8\"],[0.3333333333333333,\"#9c179e\"],[0.4444444444444444,\"#bd3786\"],[0.5555555555555556,\"#d8576b\"],[0.6666666666666666,\"#ed7953\"],[0.7777777777777778,\"#fb9f3a\"],[0.8888888888888888,\"#fdca26\"],[1.0,\"#f0f921\"]],\"type\":\"heatmapgl\"}],\"heatmap\":[{\"colorbar\":{\"outlinewidth\":0,\"ticks\":\"\"},\"colorscale\":[[0.0,\"#0d0887\"],[0.1111111111111111,\"#46039f\"],[0.2222222222222222,\"#7201a8\"],[0.3333333333333333,\"#9c179e\"],[0.4444444444444444,\"#bd3786\"],[0.5555555555555556,\"#d8576b\"],[0.6666666666666666,\"#ed7953\"],[0.7777777777777778,\"#fb9f3a\"],[0.8888888888888888,\"#fdca26\"],[1.0,\"#f0f921\"]],\"type\":\"heatmap\"}],\"histogram2dcontour\":[{\"colorbar\":{\"outlinewidth\":0,\"ticks\":\"\"},\"colorscale\":[[0.0,\"#0d0887\"],[0.1111111111111111,\"#46039f\"],[0.2222222222222222,\"#7201a8\"],[0.3333333333333333,\"#9c179e\"],[0.4444444444444444,\"#bd3786\"],[0.5555555555555556,\"#d8576b\"],[0.6666666666666666,\"#ed7953\"],[0.7777777777777778,\"#fb9f3a\"],[0.8888888888888888,\"#fdca26\"],[1.0,\"#f0f921\"]],\"type\":\"histogram2dcontour\"}],\"histogram2d\":[{\"colorbar\":{\"outlinewidth\":0,\"ticks\":\"\"},\"colorscale\":[[0.0,\"#0d0887\"],[0.1111111111111111,\"#46039f\"],[0.2222222222222222,\"#7201a8\"],[0.3333333333333333,\"#9c179e\"],[0.4444444444444444,\"#bd3786\"],[0.5555555555555556,\"#d8576b\"],[0.6666666666666666,\"#ed7953\"],[0.7777777777777778,\"#fb9f3a\"],[0.8888888888888888,\"#fdca26\"],[1.0,\"#f0f921\"]],\"type\":\"histogram2d\"}],\"histogram\":[{\"marker\":{\"pattern\":{\"fillmode\":\"overlay\",\"size\":10,\"solidity\":0.2}},\"type\":\"histogram\"}],\"mesh3d\":[{\"colorbar\":{\"outlinewidth\":0,\"ticks\":\"\"},\"type\":\"mesh3d\"}],\"parcoords\":[{\"line\":{\"colorbar\":{\"outlinewidth\":0,\"ticks\":\"\"}},\"type\":\"parcoords\"}],\"pie\":[{\"automargin\":true,\"type\":\"pie\"}],\"scatter3d\":[{\"line\":{\"colorbar\":{\"outlinewidth\":0,\"ticks\":\"\"}},\"marker\":{\"colorbar\":{\"outlinewidth\":0,\"ticks\":\"\"}},\"type\":\"scatter3d\"}],\"scattercarpet\":[{\"marker\":{\"colorbar\":{\"outlinewidth\":0,\"ticks\":\"\"}},\"type\":\"scattercarpet\"}],\"scattergeo\":[{\"marker\":{\"colorbar\":{\"outlinewidth\":0,\"ticks\":\"\"}},\"type\":\"scattergeo\"}],\"scattergl\":[{\"marker\":{\"colorbar\":{\"outlinewidth\":0,\"ticks\":\"\"}},\"type\":\"scattergl\"}],\"scattermapbox\":[{\"marker\":{\"colorbar\":{\"outlinewidth\":0,\"ticks\":\"\"}},\"type\":\"scattermapbox\"}],\"scatterpolargl\":[{\"marker\":{\"colorbar\":{\"outlinewidth\":0,\"ticks\":\"\"}},\"type\":\"scatterpolargl\"}],\"scatterpolar\":[{\"marker\":{\"colorbar\":{\"outlinewidth\":0,\"ticks\":\"\"}},\"type\":\"scatterpolar\"}],\"scatter\":[{\"marker\":{\"colorbar\":{\"outlinewidth\":0,\"ticks\":\"\"}},\"type\":\"scatter\"}],\"scatterternary\":[{\"marker\":{\"colorbar\":{\"outlinewidth\":0,\"ticks\":\"\"}},\"type\":\"scatterternary\"}],\"surface\":[{\"colorbar\":{\"outlinewidth\":0,\"ticks\":\"\"},\"colorscale\":[[0.0,\"#0d0887\"],[0.1111111111111111,\"#46039f\"],[0.2222222222222222,\"#7201a8\"],[0.3333333333333333,\"#9c179e\"],[0.4444444444444444,\"#bd3786\"],[0.5555555555555556,\"#d8576b\"],[0.6666666666666666,\"#ed7953\"],[0.7777777777777778,\"#fb9f3a\"],[0.8888888888888888,\"#fdca26\"],[1.0,\"#f0f921\"]],\"type\":\"surface\"}],\"table\":[{\"cells\":{\"fill\":{\"color\":\"#EBF0F8\"},\"line\":{\"color\":\"white\"}},\"header\":{\"fill\":{\"color\":\"#C8D4E3\"},\"line\":{\"color\":\"white\"}},\"type\":\"table\"}]},\"layout\":{\"annotationdefaults\":{\"arrowcolor\":\"#2a3f5f\",\"arrowhead\":0,\"arrowwidth\":1},\"autotypenumbers\":\"strict\",\"coloraxis\":{\"colorbar\":{\"outlinewidth\":0,\"ticks\":\"\"}},\"colorscale\":{\"diverging\":[[0,\"#8e0152\"],[0.1,\"#c51b7d\"],[0.2,\"#de77ae\"],[0.3,\"#f1b6da\"],[0.4,\"#fde0ef\"],[0.5,\"#f7f7f7\"],[0.6,\"#e6f5d0\"],[0.7,\"#b8e186\"],[0.8,\"#7fbc41\"],[0.9,\"#4d9221\"],[1,\"#276419\"]],\"sequential\":[[0.0,\"#0d0887\"],[0.1111111111111111,\"#46039f\"],[0.2222222222222222,\"#7201a8\"],[0.3333333333333333,\"#9c179e\"],[0.4444444444444444,\"#bd3786\"],[0.5555555555555556,\"#d8576b\"],[0.6666666666666666,\"#ed7953\"],[0.7777777777777778,\"#fb9f3a\"],[0.8888888888888888,\"#fdca26\"],[1.0,\"#f0f921\"]],\"sequentialminus\":[[0.0,\"#0d0887\"],[0.1111111111111111,\"#46039f\"],[0.2222222222222222,\"#7201a8\"],[0.3333333333333333,\"#9c179e\"],[0.4444444444444444,\"#bd3786\"],[0.5555555555555556,\"#d8576b\"],[0.6666666666666666,\"#ed7953\"],[0.7777777777777778,\"#fb9f3a\"],[0.8888888888888888,\"#fdca26\"],[1.0,\"#f0f921\"]]},\"colorway\":[\"#636efa\",\"#EF553B\",\"#00cc96\",\"#ab63fa\",\"#FFA15A\",\"#19d3f3\",\"#FF6692\",\"#B6E880\",\"#FF97FF\",\"#FECB52\"],\"font\":{\"color\":\"#2a3f5f\"},\"geo\":{\"bgcolor\":\"white\",\"lakecolor\":\"white\",\"landcolor\":\"white\",\"showlakes\":true,\"showland\":true,\"subunitcolor\":\"#C8D4E3\"},\"hoverlabel\":{\"align\":\"left\"},\"hovermode\":\"closest\",\"mapbox\":{\"style\":\"light\"},\"paper_bgcolor\":\"white\",\"plot_bgcolor\":\"white\",\"polar\":{\"angularaxis\":{\"gridcolor\":\"#EBF0F8\",\"linecolor\":\"#EBF0F8\",\"ticks\":\"\"},\"bgcolor\":\"white\",\"radialaxis\":{\"gridcolor\":\"#EBF0F8\",\"linecolor\":\"#EBF0F8\",\"ticks\":\"\"}},\"scene\":{\"xaxis\":{\"backgroundcolor\":\"white\",\"gridcolor\":\"#DFE8F3\",\"gridwidth\":2,\"linecolor\":\"#EBF0F8\",\"showbackground\":true,\"ticks\":\"\",\"zerolinecolor\":\"#EBF0F8\"},\"yaxis\":{\"backgroundcolor\":\"white\",\"gridcolor\":\"#DFE8F3\",\"gridwidth\":2,\"linecolor\":\"#EBF0F8\",\"showbackground\":true,\"ticks\":\"\",\"zerolinecolor\":\"#EBF0F8\"},\"zaxis\":{\"backgroundcolor\":\"white\",\"gridcolor\":\"#DFE8F3\",\"gridwidth\":2,\"linecolor\":\"#EBF0F8\",\"showbackground\":true,\"ticks\":\"\",\"zerolinecolor\":\"#EBF0F8\"}},\"shapedefaults\":{\"line\":{\"color\":\"#2a3f5f\"}},\"ternary\":{\"aaxis\":{\"gridcolor\":\"#DFE8F3\",\"linecolor\":\"#A2B1C6\",\"ticks\":\"\"},\"baxis\":{\"gridcolor\":\"#DFE8F3\",\"linecolor\":\"#A2B1C6\",\"ticks\":\"\"},\"bgcolor\":\"white\",\"caxis\":{\"gridcolor\":\"#DFE8F3\",\"linecolor\":\"#A2B1C6\",\"ticks\":\"\"}},\"title\":{\"x\":0.05},\"xaxis\":{\"automargin\":true,\"gridcolor\":\"#EBF0F8\",\"linecolor\":\"#EBF0F8\",\"ticks\":\"\",\"title\":{\"standoff\":15},\"zerolinecolor\":\"#EBF0F8\",\"zerolinewidth\":2},\"yaxis\":{\"automargin\":true,\"gridcolor\":\"#EBF0F8\",\"linecolor\":\"#EBF0F8\",\"ticks\":\"\",\"title\":{\"standoff\":15},\"zerolinecolor\":\"#EBF0F8\",\"zerolinewidth\":2}}},\"margin\":{\"l\":100,\"r\":100,\"b\":100,\"t\":100,\"pad\":2},\"yaxis\":{\"tick0\":0,\"dtick\":100,\"title\":{\"text\":\"Best fitness function\"}},\"autosize\":false,\"title\":{\"text\":\"GA performance\"},\"width\":700,\"height\":700,\"xaxis\":{\"title\":{\"text\":\"Number of trials\"}}},                        {\"responsive\": true}                    ).then(function(){\n",
              "                            \n",
              "var gd = document.getElementById('e2cb2c94-bdee-46ee-829b-0a4b05c14fd3');\n",
              "var x = new MutationObserver(function (mutations, observer) {{\n",
              "        var display = window.getComputedStyle(gd).display;\n",
              "        if (!display || display === 'none') {{\n",
              "            console.log([gd, 'removed!']);\n",
              "            Plotly.purge(gd);\n",
              "            observer.disconnect();\n",
              "        }}\n",
              "}});\n",
              "\n",
              "// Listen for the removal of the full notebook cells\n",
              "var notebookContainer = gd.closest('#notebook-container');\n",
              "if (notebookContainer) {{\n",
              "    x.observe(notebookContainer, {childList: true});\n",
              "}}\n",
              "\n",
              "// Listen for the clearing of the current output cell\n",
              "var outputEl = gd.closest('.output');\n",
              "if (outputEl) {{\n",
              "    x.observe(outputEl, {childList: true});\n",
              "}}\n",
              "\n",
              "                        })                };                            </script>        </div>\n",
              "</body>\n",
              "</html>"
            ]
          },
          "metadata": {}
        }
      ]
    },
    {
      "cell_type": "markdown",
      "source": [
        "**-------------------------------Instance 2 results-------------------------------**"
      ],
      "metadata": {
        "id": "gJeGhmFKnKjf"
      }
    },
    {
      "cell_type": "code",
      "source": [
        "print('=================Expirments Instance 2 Table=================')\n",
        "ExpirmentsTable2 = pd.DataFrame(ExpirmentsResultsInstance2List, columns=('ExpirmentNumber', 'averageFitnessValue'))\n",
        "ExpirmentsTable2['averageFitnessValue'] = ExpirmentsTable2['averageFitnessValue'].apply('{:0<4}'.format)\n",
        "ExpirmentsTable2.style"
      ],
      "metadata": {
        "colab": {
          "base_uri": "https://localhost:8080/",
          "height": 255
        },
        "id": "uIe_U3V2x7gd",
        "outputId": "115716bc-610c-4ed0-cc3b-e4a6e629bec6"
      },
      "execution_count": 18,
      "outputs": [
        {
          "output_type": "stream",
          "name": "stdout",
          "text": [
            "=================Expirments Instance 2 Table=================\n"
          ]
        },
        {
          "output_type": "execute_result",
          "data": {
            "text/plain": [
              "<pandas.io.formats.style.Styler at 0x7f972f9b4cd0>"
            ],
            "text/html": [
              "<style type=\"text/css\">\n",
              "</style>\n",
              "<table id=\"T_d99ea_\" class=\"dataframe\">\n",
              "  <thead>\n",
              "    <tr>\n",
              "      <th class=\"blank level0\" >&nbsp;</th>\n",
              "      <th class=\"col_heading level0 col0\" >ExpirmentNumber</th>\n",
              "      <th class=\"col_heading level0 col1\" >averageFitnessValue</th>\n",
              "    </tr>\n",
              "  </thead>\n",
              "  <tbody>\n",
              "    <tr>\n",
              "      <th id=\"T_d99ea_level0_row0\" class=\"row_heading level0 row0\" >0</th>\n",
              "      <td id=\"T_d99ea_row0_col0\" class=\"data row0 col0\" >Ex_1</td>\n",
              "      <td id=\"T_d99ea_row0_col1\" class=\"data row0 col1\" >400329.2</td>\n",
              "    </tr>\n",
              "    <tr>\n",
              "      <th id=\"T_d99ea_level0_row1\" class=\"row_heading level0 row1\" >1</th>\n",
              "      <td id=\"T_d99ea_row1_col0\" class=\"data row1 col0\" >Ex_2</td>\n",
              "      <td id=\"T_d99ea_row1_col1\" class=\"data row1 col1\" >427903.4</td>\n",
              "    </tr>\n",
              "    <tr>\n",
              "      <th id=\"T_d99ea_level0_row2\" class=\"row_heading level0 row2\" >2</th>\n",
              "      <td id=\"T_d99ea_row2_col0\" class=\"data row2 col0\" >Ex_3</td>\n",
              "      <td id=\"T_d99ea_row2_col1\" class=\"data row2 col1\" >294219.6</td>\n",
              "    </tr>\n",
              "    <tr>\n",
              "      <th id=\"T_d99ea_level0_row3\" class=\"row_heading level0 row3\" >3</th>\n",
              "      <td id=\"T_d99ea_row3_col0\" class=\"data row3 col0\" >Ex_4</td>\n",
              "      <td id=\"T_d99ea_row3_col1\" class=\"data row3 col1\" >659775.8</td>\n",
              "    </tr>\n",
              "    <tr>\n",
              "      <th id=\"T_d99ea_level0_row4\" class=\"row_heading level0 row4\" >4</th>\n",
              "      <td id=\"T_d99ea_row4_col0\" class=\"data row4 col0\" >Ex_5</td>\n",
              "      <td id=\"T_d99ea_row4_col1\" class=\"data row4 col1\" >792099.4</td>\n",
              "    </tr>\n",
              "    <tr>\n",
              "      <th id=\"T_d99ea_level0_row5\" class=\"row_heading level0 row5\" >5</th>\n",
              "      <td id=\"T_d99ea_row5_col0\" class=\"data row5 col0\" >Ex_6</td>\n",
              "      <td id=\"T_d99ea_row5_col1\" class=\"data row5 col1\" >821714.2</td>\n",
              "    </tr>\n",
              "  </tbody>\n",
              "</table>\n"
            ]
          },
          "metadata": {},
          "execution_count": 18
        }
      ]
    },
    {
      "cell_type": "code",
      "source": [
        "#to graph the results of all expirments we used the code from the following link: \n",
        "ExpirmentsTable2['averageFitnessValue'] = ExpirmentsTable2['averageFitnessValue'].astype(float)\n",
        "fig = go.Figure()\n",
        "\n",
        "fig.add_trace(go.Scatter(\n",
        "    x=ExpirmentsTable2['ExpirmentNumber'],\n",
        "    y= ExpirmentsTable2['averageFitnessValue']\n",
        "))\n",
        "\n",
        "fig.update_layout(\n",
        "    template=\"plotly_white\", #\"plotly\", \"plotly_white\", \"plotly_dark\", \"ggplot2\", \"seaborn\", \"simple_white\"\n",
        "    title=\"averageFitnessValue vs Expirment\",\n",
        "    autosize=False,\n",
        "    width=500,\n",
        "    height=500,\n",
        "    margin=dict(\n",
        "        l=50,\n",
        "        r=50,\n",
        "        b=100,\n",
        "        t=100,\n",
        "        pad=4\n",
        "    ),\n",
        "    #paper_bgcolor=\"LightSteelBlue\",\n",
        ")\n",
        "\n",
        "fig.show()"
      ],
      "metadata": {
        "colab": {
          "base_uri": "https://localhost:8080/",
          "height": 517
        },
        "id": "SLGtIi7QibNd",
        "outputId": "fb041a29-140b-4fe0-d063-71ea4164ea67"
      },
      "execution_count": 19,
      "outputs": [
        {
          "output_type": "display_data",
          "data": {
            "text/html": [
              "<html>\n",
              "<head><meta charset=\"utf-8\" /></head>\n",
              "<body>\n",
              "    <div>            <script src=\"https://cdnjs.cloudflare.com/ajax/libs/mathjax/2.7.5/MathJax.js?config=TeX-AMS-MML_SVG\"></script><script type=\"text/javascript\">if (window.MathJax) {MathJax.Hub.Config({SVG: {font: \"STIX-Web\"}});}</script>                <script type=\"text/javascript\">window.PlotlyConfig = {MathJaxConfig: 'local'};</script>\n",
              "        <script src=\"https://cdn.plot.ly/plotly-2.8.3.min.js\"></script>                <div id=\"ba0eafd1-0c0d-4595-8bf4-bda3baa28f4e\" class=\"plotly-graph-div\" style=\"height:500px; width:500px;\"></div>            <script type=\"text/javascript\">                                    window.PLOTLYENV=window.PLOTLYENV || {};                                    if (document.getElementById(\"ba0eafd1-0c0d-4595-8bf4-bda3baa28f4e\")) {                    Plotly.newPlot(                        \"ba0eafd1-0c0d-4595-8bf4-bda3baa28f4e\",                        [{\"x\":[\"Ex_1\",\"Ex_2\",\"Ex_3\",\"Ex_4\",\"Ex_5\",\"Ex_6\"],\"y\":[400329.2,427903.4,294219.6,659775.8,792099.4,821714.2],\"type\":\"scatter\"}],                        {\"template\":{\"data\":{\"barpolar\":[{\"marker\":{\"line\":{\"color\":\"white\",\"width\":0.5},\"pattern\":{\"fillmode\":\"overlay\",\"size\":10,\"solidity\":0.2}},\"type\":\"barpolar\"}],\"bar\":[{\"error_x\":{\"color\":\"#2a3f5f\"},\"error_y\":{\"color\":\"#2a3f5f\"},\"marker\":{\"line\":{\"color\":\"white\",\"width\":0.5},\"pattern\":{\"fillmode\":\"overlay\",\"size\":10,\"solidity\":0.2}},\"type\":\"bar\"}],\"carpet\":[{\"aaxis\":{\"endlinecolor\":\"#2a3f5f\",\"gridcolor\":\"#C8D4E3\",\"linecolor\":\"#C8D4E3\",\"minorgridcolor\":\"#C8D4E3\",\"startlinecolor\":\"#2a3f5f\"},\"baxis\":{\"endlinecolor\":\"#2a3f5f\",\"gridcolor\":\"#C8D4E3\",\"linecolor\":\"#C8D4E3\",\"minorgridcolor\":\"#C8D4E3\",\"startlinecolor\":\"#2a3f5f\"},\"type\":\"carpet\"}],\"choropleth\":[{\"colorbar\":{\"outlinewidth\":0,\"ticks\":\"\"},\"type\":\"choropleth\"}],\"contourcarpet\":[{\"colorbar\":{\"outlinewidth\":0,\"ticks\":\"\"},\"type\":\"contourcarpet\"}],\"contour\":[{\"colorbar\":{\"outlinewidth\":0,\"ticks\":\"\"},\"colorscale\":[[0.0,\"#0d0887\"],[0.1111111111111111,\"#46039f\"],[0.2222222222222222,\"#7201a8\"],[0.3333333333333333,\"#9c179e\"],[0.4444444444444444,\"#bd3786\"],[0.5555555555555556,\"#d8576b\"],[0.6666666666666666,\"#ed7953\"],[0.7777777777777778,\"#fb9f3a\"],[0.8888888888888888,\"#fdca26\"],[1.0,\"#f0f921\"]],\"type\":\"contour\"}],\"heatmapgl\":[{\"colorbar\":{\"outlinewidth\":0,\"ticks\":\"\"},\"colorscale\":[[0.0,\"#0d0887\"],[0.1111111111111111,\"#46039f\"],[0.2222222222222222,\"#7201a8\"],[0.3333333333333333,\"#9c179e\"],[0.4444444444444444,\"#bd3786\"],[0.5555555555555556,\"#d8576b\"],[0.6666666666666666,\"#ed7953\"],[0.7777777777777778,\"#fb9f3a\"],[0.8888888888888888,\"#fdca26\"],[1.0,\"#f0f921\"]],\"type\":\"heatmapgl\"}],\"heatmap\":[{\"colorbar\":{\"outlinewidth\":0,\"ticks\":\"\"},\"colorscale\":[[0.0,\"#0d0887\"],[0.1111111111111111,\"#46039f\"],[0.2222222222222222,\"#7201a8\"],[0.3333333333333333,\"#9c179e\"],[0.4444444444444444,\"#bd3786\"],[0.5555555555555556,\"#d8576b\"],[0.6666666666666666,\"#ed7953\"],[0.7777777777777778,\"#fb9f3a\"],[0.8888888888888888,\"#fdca26\"],[1.0,\"#f0f921\"]],\"type\":\"heatmap\"}],\"histogram2dcontour\":[{\"colorbar\":{\"outlinewidth\":0,\"ticks\":\"\"},\"colorscale\":[[0.0,\"#0d0887\"],[0.1111111111111111,\"#46039f\"],[0.2222222222222222,\"#7201a8\"],[0.3333333333333333,\"#9c179e\"],[0.4444444444444444,\"#bd3786\"],[0.5555555555555556,\"#d8576b\"],[0.6666666666666666,\"#ed7953\"],[0.7777777777777778,\"#fb9f3a\"],[0.8888888888888888,\"#fdca26\"],[1.0,\"#f0f921\"]],\"type\":\"histogram2dcontour\"}],\"histogram2d\":[{\"colorbar\":{\"outlinewidth\":0,\"ticks\":\"\"},\"colorscale\":[[0.0,\"#0d0887\"],[0.1111111111111111,\"#46039f\"],[0.2222222222222222,\"#7201a8\"],[0.3333333333333333,\"#9c179e\"],[0.4444444444444444,\"#bd3786\"],[0.5555555555555556,\"#d8576b\"],[0.6666666666666666,\"#ed7953\"],[0.7777777777777778,\"#fb9f3a\"],[0.8888888888888888,\"#fdca26\"],[1.0,\"#f0f921\"]],\"type\":\"histogram2d\"}],\"histogram\":[{\"marker\":{\"pattern\":{\"fillmode\":\"overlay\",\"size\":10,\"solidity\":0.2}},\"type\":\"histogram\"}],\"mesh3d\":[{\"colorbar\":{\"outlinewidth\":0,\"ticks\":\"\"},\"type\":\"mesh3d\"}],\"parcoords\":[{\"line\":{\"colorbar\":{\"outlinewidth\":0,\"ticks\":\"\"}},\"type\":\"parcoords\"}],\"pie\":[{\"automargin\":true,\"type\":\"pie\"}],\"scatter3d\":[{\"line\":{\"colorbar\":{\"outlinewidth\":0,\"ticks\":\"\"}},\"marker\":{\"colorbar\":{\"outlinewidth\":0,\"ticks\":\"\"}},\"type\":\"scatter3d\"}],\"scattercarpet\":[{\"marker\":{\"colorbar\":{\"outlinewidth\":0,\"ticks\":\"\"}},\"type\":\"scattercarpet\"}],\"scattergeo\":[{\"marker\":{\"colorbar\":{\"outlinewidth\":0,\"ticks\":\"\"}},\"type\":\"scattergeo\"}],\"scattergl\":[{\"marker\":{\"colorbar\":{\"outlinewidth\":0,\"ticks\":\"\"}},\"type\":\"scattergl\"}],\"scattermapbox\":[{\"marker\":{\"colorbar\":{\"outlinewidth\":0,\"ticks\":\"\"}},\"type\":\"scattermapbox\"}],\"scatterpolargl\":[{\"marker\":{\"colorbar\":{\"outlinewidth\":0,\"ticks\":\"\"}},\"type\":\"scatterpolargl\"}],\"scatterpolar\":[{\"marker\":{\"colorbar\":{\"outlinewidth\":0,\"ticks\":\"\"}},\"type\":\"scatterpolar\"}],\"scatter\":[{\"marker\":{\"colorbar\":{\"outlinewidth\":0,\"ticks\":\"\"}},\"type\":\"scatter\"}],\"scatterternary\":[{\"marker\":{\"colorbar\":{\"outlinewidth\":0,\"ticks\":\"\"}},\"type\":\"scatterternary\"}],\"surface\":[{\"colorbar\":{\"outlinewidth\":0,\"ticks\":\"\"},\"colorscale\":[[0.0,\"#0d0887\"],[0.1111111111111111,\"#46039f\"],[0.2222222222222222,\"#7201a8\"],[0.3333333333333333,\"#9c179e\"],[0.4444444444444444,\"#bd3786\"],[0.5555555555555556,\"#d8576b\"],[0.6666666666666666,\"#ed7953\"],[0.7777777777777778,\"#fb9f3a\"],[0.8888888888888888,\"#fdca26\"],[1.0,\"#f0f921\"]],\"type\":\"surface\"}],\"table\":[{\"cells\":{\"fill\":{\"color\":\"#EBF0F8\"},\"line\":{\"color\":\"white\"}},\"header\":{\"fill\":{\"color\":\"#C8D4E3\"},\"line\":{\"color\":\"white\"}},\"type\":\"table\"}]},\"layout\":{\"annotationdefaults\":{\"arrowcolor\":\"#2a3f5f\",\"arrowhead\":0,\"arrowwidth\":1},\"autotypenumbers\":\"strict\",\"coloraxis\":{\"colorbar\":{\"outlinewidth\":0,\"ticks\":\"\"}},\"colorscale\":{\"diverging\":[[0,\"#8e0152\"],[0.1,\"#c51b7d\"],[0.2,\"#de77ae\"],[0.3,\"#f1b6da\"],[0.4,\"#fde0ef\"],[0.5,\"#f7f7f7\"],[0.6,\"#e6f5d0\"],[0.7,\"#b8e186\"],[0.8,\"#7fbc41\"],[0.9,\"#4d9221\"],[1,\"#276419\"]],\"sequential\":[[0.0,\"#0d0887\"],[0.1111111111111111,\"#46039f\"],[0.2222222222222222,\"#7201a8\"],[0.3333333333333333,\"#9c179e\"],[0.4444444444444444,\"#bd3786\"],[0.5555555555555556,\"#d8576b\"],[0.6666666666666666,\"#ed7953\"],[0.7777777777777778,\"#fb9f3a\"],[0.8888888888888888,\"#fdca26\"],[1.0,\"#f0f921\"]],\"sequentialminus\":[[0.0,\"#0d0887\"],[0.1111111111111111,\"#46039f\"],[0.2222222222222222,\"#7201a8\"],[0.3333333333333333,\"#9c179e\"],[0.4444444444444444,\"#bd3786\"],[0.5555555555555556,\"#d8576b\"],[0.6666666666666666,\"#ed7953\"],[0.7777777777777778,\"#fb9f3a\"],[0.8888888888888888,\"#fdca26\"],[1.0,\"#f0f921\"]]},\"colorway\":[\"#636efa\",\"#EF553B\",\"#00cc96\",\"#ab63fa\",\"#FFA15A\",\"#19d3f3\",\"#FF6692\",\"#B6E880\",\"#FF97FF\",\"#FECB52\"],\"font\":{\"color\":\"#2a3f5f\"},\"geo\":{\"bgcolor\":\"white\",\"lakecolor\":\"white\",\"landcolor\":\"white\",\"showlakes\":true,\"showland\":true,\"subunitcolor\":\"#C8D4E3\"},\"hoverlabel\":{\"align\":\"left\"},\"hovermode\":\"closest\",\"mapbox\":{\"style\":\"light\"},\"paper_bgcolor\":\"white\",\"plot_bgcolor\":\"white\",\"polar\":{\"angularaxis\":{\"gridcolor\":\"#EBF0F8\",\"linecolor\":\"#EBF0F8\",\"ticks\":\"\"},\"bgcolor\":\"white\",\"radialaxis\":{\"gridcolor\":\"#EBF0F8\",\"linecolor\":\"#EBF0F8\",\"ticks\":\"\"}},\"scene\":{\"xaxis\":{\"backgroundcolor\":\"white\",\"gridcolor\":\"#DFE8F3\",\"gridwidth\":2,\"linecolor\":\"#EBF0F8\",\"showbackground\":true,\"ticks\":\"\",\"zerolinecolor\":\"#EBF0F8\"},\"yaxis\":{\"backgroundcolor\":\"white\",\"gridcolor\":\"#DFE8F3\",\"gridwidth\":2,\"linecolor\":\"#EBF0F8\",\"showbackground\":true,\"ticks\":\"\",\"zerolinecolor\":\"#EBF0F8\"},\"zaxis\":{\"backgroundcolor\":\"white\",\"gridcolor\":\"#DFE8F3\",\"gridwidth\":2,\"linecolor\":\"#EBF0F8\",\"showbackground\":true,\"ticks\":\"\",\"zerolinecolor\":\"#EBF0F8\"}},\"shapedefaults\":{\"line\":{\"color\":\"#2a3f5f\"}},\"ternary\":{\"aaxis\":{\"gridcolor\":\"#DFE8F3\",\"linecolor\":\"#A2B1C6\",\"ticks\":\"\"},\"baxis\":{\"gridcolor\":\"#DFE8F3\",\"linecolor\":\"#A2B1C6\",\"ticks\":\"\"},\"bgcolor\":\"white\",\"caxis\":{\"gridcolor\":\"#DFE8F3\",\"linecolor\":\"#A2B1C6\",\"ticks\":\"\"}},\"title\":{\"x\":0.05},\"xaxis\":{\"automargin\":true,\"gridcolor\":\"#EBF0F8\",\"linecolor\":\"#EBF0F8\",\"ticks\":\"\",\"title\":{\"standoff\":15},\"zerolinecolor\":\"#EBF0F8\",\"zerolinewidth\":2},\"yaxis\":{\"automargin\":true,\"gridcolor\":\"#EBF0F8\",\"linecolor\":\"#EBF0F8\",\"ticks\":\"\",\"title\":{\"standoff\":15},\"zerolinecolor\":\"#EBF0F8\",\"zerolinewidth\":2}}},\"margin\":{\"l\":50,\"r\":50,\"b\":100,\"t\":100,\"pad\":4},\"title\":{\"text\":\"averageFitnessValue vs Expirment\"},\"autosize\":false,\"width\":500,\"height\":500},                        {\"responsive\": true}                    ).then(function(){\n",
              "                            \n",
              "var gd = document.getElementById('ba0eafd1-0c0d-4595-8bf4-bda3baa28f4e');\n",
              "var x = new MutationObserver(function (mutations, observer) {{\n",
              "        var display = window.getComputedStyle(gd).display;\n",
              "        if (!display || display === 'none') {{\n",
              "            console.log([gd, 'removed!']);\n",
              "            Plotly.purge(gd);\n",
              "            observer.disconnect();\n",
              "        }}\n",
              "}});\n",
              "\n",
              "// Listen for the removal of the full notebook cells\n",
              "var notebookContainer = gd.closest('#notebook-container');\n",
              "if (notebookContainer) {{\n",
              "    x.observe(notebookContainer, {childList: true});\n",
              "}}\n",
              "\n",
              "// Listen for the clearing of the current output cell\n",
              "var outputEl = gd.closest('.output');\n",
              "if (outputEl) {{\n",
              "    x.observe(outputEl, {childList: true});\n",
              "}}\n",
              "\n",
              "                        })                };                            </script>        </div>\n",
              "</body>\n",
              "</html>"
            ]
          },
          "metadata": {}
        }
      ]
    },
    {
      "cell_type": "code",
      "source": [
        "import plotly.graph_objects as go\n",
        "df=pd.DataFrame({'NumberofTrials': range(1,6), 'Experiment1Trials': pd.to_numeric(bestFitnessValueListExp1ins2),'Experiment2Trials': pd.to_numeric(bestFitnessValueListExp2ins2),'Experiment3Trials': pd.to_numeric(bestFitnessValueListExp3ins2),'Experiment4Trials': pd.to_numeric(bestFitnessValueListExp4ins2),'Experiment5Trials': pd.to_numeric(bestFitnessValueListExp5ins2) ,'Experiment6Trials': pd.to_numeric(bestFitnessValueListExp6ins2)})\n",
        "\n",
        "fig = go.Figure()\n",
        "\n",
        "fig.add_trace(go.Scatter(\n",
        "    x=df['NumberofTrials'],\n",
        "    y=df['Experiment1Trials'],\n",
        "    name=\"Experiment1\"\n",
        "))\n",
        "fig.add_trace(go.Scatter(\n",
        "    x=df['NumberofTrials'],\n",
        "    y=df['Experiment2Trials'],\n",
        "    name=\"Experiment2\"\n",
        "))\n",
        "fig.add_trace(go.Scatter(\n",
        "    x=df['NumberofTrials'],\n",
        "    y=df['Experiment3Trials'],\n",
        "    name=\"Experiment3\"\n",
        "))\n",
        "fig.add_trace(go.Scatter(\n",
        "    x=df['NumberofTrials'],\n",
        "    y=df['Experiment4Trials'],\n",
        "    name=\"Experiment4\"\n",
        "))\n",
        "fig.add_trace(go.Scatter(\n",
        "    x=df['NumberofTrials'],\n",
        "    y=df['Experiment5Trials'],\n",
        "    name=\"Experiment5\"\n",
        "))\n",
        "fig.add_trace(go.Scatter(\n",
        "    x=df['NumberofTrials'],\n",
        "    y=df['Experiment6Trials'],\n",
        "    name=\"Experiment6\"\n",
        "    \n",
        "\n",
        "\n",
        "))\n",
        "\n",
        "\n",
        "\n",
        "\n",
        "fig.update_layout(\n",
        "    autosize=False,\n",
        "    template=\"plotly_white\", #\"plotly\", \"plotly_white\", \"plotly_dark\", \"ggplot2\", \"seaborn\", \"simple_white\"\n",
        "    title=\"GA performance\",\n",
        "    width=900,\n",
        "    height=800,\n",
        "    margin=dict(\n",
        "        l=100,\n",
        "        r=100,\n",
        "        b=100,\n",
        "        t=100,\n",
        "        pad=2\n",
        "    ),\n",
        "     yaxis = dict(\n",
        "        \n",
        "        tick0 =0,\n",
        "        dtick =100000\n",
        "    ),\n",
        "    #paper_bgcolor=\"LightSteelBlue\",\n",
        "    \n",
        ")\n",
        "fig.update_xaxes(title_text=\"Number of trials\")\n",
        "fig.update_yaxes(title_text=\"Best fitness function\")\n",
        "\n",
        "fig.show()"
      ],
      "metadata": {
        "colab": {
          "base_uri": "https://localhost:8080/",
          "height": 817
        },
        "id": "9UGERzt5yVmC",
        "outputId": "2596f944-5495-4a5c-8a26-cc177f62e806"
      },
      "execution_count": 20,
      "outputs": [
        {
          "output_type": "display_data",
          "data": {
            "text/html": [
              "<html>\n",
              "<head><meta charset=\"utf-8\" /></head>\n",
              "<body>\n",
              "    <div>            <script src=\"https://cdnjs.cloudflare.com/ajax/libs/mathjax/2.7.5/MathJax.js?config=TeX-AMS-MML_SVG\"></script><script type=\"text/javascript\">if (window.MathJax) {MathJax.Hub.Config({SVG: {font: \"STIX-Web\"}});}</script>                <script type=\"text/javascript\">window.PlotlyConfig = {MathJaxConfig: 'local'};</script>\n",
              "        <script src=\"https://cdn.plot.ly/plotly-2.8.3.min.js\"></script>                <div id=\"eb12ca4c-9a32-44d5-845e-39084faa3c03\" class=\"plotly-graph-div\" style=\"height:800px; width:900px;\"></div>            <script type=\"text/javascript\">                                    window.PLOTLYENV=window.PLOTLYENV || {};                                    if (document.getElementById(\"eb12ca4c-9a32-44d5-845e-39084faa3c03\")) {                    Plotly.newPlot(                        \"eb12ca4c-9a32-44d5-845e-39084faa3c03\",                        [{\"name\":\"Experiment1\",\"x\":[1,2,3,4,5],\"y\":[235727.0,253774.0,1038571.0,237089.0,236485.0],\"type\":\"scatter\"},{\"name\":\"Experiment2\",\"x\":[1,2,3,4,5],\"y\":[281775.0,298364.0,1000590.0,287797.0,270991.0],\"type\":\"scatter\"},{\"name\":\"Experiment3\",\"x\":[1,2,3,4,5],\"y\":[295750.0,291239.0,291992.0,291859.0,300258.0],\"type\":\"scatter\"},{\"name\":\"Experiment4\",\"x\":[1,2,3,4,5],\"y\":[431833.0,430271.0,1020523.0,406479.0,1009773.0],\"type\":\"scatter\"},{\"name\":\"Experiment5\",\"x\":[1,2,3,4,5],\"y\":[808020.0,806836.0,806233.0,773344.0,766064.0],\"type\":\"scatter\"},{\"name\":\"Experiment6\",\"x\":[1,2,3,4,5],\"y\":[791818.0,1022095.0,776933.0,749210.0,768515.0],\"type\":\"scatter\"}],                        {\"template\":{\"data\":{\"barpolar\":[{\"marker\":{\"line\":{\"color\":\"white\",\"width\":0.5},\"pattern\":{\"fillmode\":\"overlay\",\"size\":10,\"solidity\":0.2}},\"type\":\"barpolar\"}],\"bar\":[{\"error_x\":{\"color\":\"#2a3f5f\"},\"error_y\":{\"color\":\"#2a3f5f\"},\"marker\":{\"line\":{\"color\":\"white\",\"width\":0.5},\"pattern\":{\"fillmode\":\"overlay\",\"size\":10,\"solidity\":0.2}},\"type\":\"bar\"}],\"carpet\":[{\"aaxis\":{\"endlinecolor\":\"#2a3f5f\",\"gridcolor\":\"#C8D4E3\",\"linecolor\":\"#C8D4E3\",\"minorgridcolor\":\"#C8D4E3\",\"startlinecolor\":\"#2a3f5f\"},\"baxis\":{\"endlinecolor\":\"#2a3f5f\",\"gridcolor\":\"#C8D4E3\",\"linecolor\":\"#C8D4E3\",\"minorgridcolor\":\"#C8D4E3\",\"startlinecolor\":\"#2a3f5f\"},\"type\":\"carpet\"}],\"choropleth\":[{\"colorbar\":{\"outlinewidth\":0,\"ticks\":\"\"},\"type\":\"choropleth\"}],\"contourcarpet\":[{\"colorbar\":{\"outlinewidth\":0,\"ticks\":\"\"},\"type\":\"contourcarpet\"}],\"contour\":[{\"colorbar\":{\"outlinewidth\":0,\"ticks\":\"\"},\"colorscale\":[[0.0,\"#0d0887\"],[0.1111111111111111,\"#46039f\"],[0.2222222222222222,\"#7201a8\"],[0.3333333333333333,\"#9c179e\"],[0.4444444444444444,\"#bd3786\"],[0.5555555555555556,\"#d8576b\"],[0.6666666666666666,\"#ed7953\"],[0.7777777777777778,\"#fb9f3a\"],[0.8888888888888888,\"#fdca26\"],[1.0,\"#f0f921\"]],\"type\":\"contour\"}],\"heatmapgl\":[{\"colorbar\":{\"outlinewidth\":0,\"ticks\":\"\"},\"colorscale\":[[0.0,\"#0d0887\"],[0.1111111111111111,\"#46039f\"],[0.2222222222222222,\"#7201a8\"],[0.3333333333333333,\"#9c179e\"],[0.4444444444444444,\"#bd3786\"],[0.5555555555555556,\"#d8576b\"],[0.6666666666666666,\"#ed7953\"],[0.7777777777777778,\"#fb9f3a\"],[0.8888888888888888,\"#fdca26\"],[1.0,\"#f0f921\"]],\"type\":\"heatmapgl\"}],\"heatmap\":[{\"colorbar\":{\"outlinewidth\":0,\"ticks\":\"\"},\"colorscale\":[[0.0,\"#0d0887\"],[0.1111111111111111,\"#46039f\"],[0.2222222222222222,\"#7201a8\"],[0.3333333333333333,\"#9c179e\"],[0.4444444444444444,\"#bd3786\"],[0.5555555555555556,\"#d8576b\"],[0.6666666666666666,\"#ed7953\"],[0.7777777777777778,\"#fb9f3a\"],[0.8888888888888888,\"#fdca26\"],[1.0,\"#f0f921\"]],\"type\":\"heatmap\"}],\"histogram2dcontour\":[{\"colorbar\":{\"outlinewidth\":0,\"ticks\":\"\"},\"colorscale\":[[0.0,\"#0d0887\"],[0.1111111111111111,\"#46039f\"],[0.2222222222222222,\"#7201a8\"],[0.3333333333333333,\"#9c179e\"],[0.4444444444444444,\"#bd3786\"],[0.5555555555555556,\"#d8576b\"],[0.6666666666666666,\"#ed7953\"],[0.7777777777777778,\"#fb9f3a\"],[0.8888888888888888,\"#fdca26\"],[1.0,\"#f0f921\"]],\"type\":\"histogram2dcontour\"}],\"histogram2d\":[{\"colorbar\":{\"outlinewidth\":0,\"ticks\":\"\"},\"colorscale\":[[0.0,\"#0d0887\"],[0.1111111111111111,\"#46039f\"],[0.2222222222222222,\"#7201a8\"],[0.3333333333333333,\"#9c179e\"],[0.4444444444444444,\"#bd3786\"],[0.5555555555555556,\"#d8576b\"],[0.6666666666666666,\"#ed7953\"],[0.7777777777777778,\"#fb9f3a\"],[0.8888888888888888,\"#fdca26\"],[1.0,\"#f0f921\"]],\"type\":\"histogram2d\"}],\"histogram\":[{\"marker\":{\"pattern\":{\"fillmode\":\"overlay\",\"size\":10,\"solidity\":0.2}},\"type\":\"histogram\"}],\"mesh3d\":[{\"colorbar\":{\"outlinewidth\":0,\"ticks\":\"\"},\"type\":\"mesh3d\"}],\"parcoords\":[{\"line\":{\"colorbar\":{\"outlinewidth\":0,\"ticks\":\"\"}},\"type\":\"parcoords\"}],\"pie\":[{\"automargin\":true,\"type\":\"pie\"}],\"scatter3d\":[{\"line\":{\"colorbar\":{\"outlinewidth\":0,\"ticks\":\"\"}},\"marker\":{\"colorbar\":{\"outlinewidth\":0,\"ticks\":\"\"}},\"type\":\"scatter3d\"}],\"scattercarpet\":[{\"marker\":{\"colorbar\":{\"outlinewidth\":0,\"ticks\":\"\"}},\"type\":\"scattercarpet\"}],\"scattergeo\":[{\"marker\":{\"colorbar\":{\"outlinewidth\":0,\"ticks\":\"\"}},\"type\":\"scattergeo\"}],\"scattergl\":[{\"marker\":{\"colorbar\":{\"outlinewidth\":0,\"ticks\":\"\"}},\"type\":\"scattergl\"}],\"scattermapbox\":[{\"marker\":{\"colorbar\":{\"outlinewidth\":0,\"ticks\":\"\"}},\"type\":\"scattermapbox\"}],\"scatterpolargl\":[{\"marker\":{\"colorbar\":{\"outlinewidth\":0,\"ticks\":\"\"}},\"type\":\"scatterpolargl\"}],\"scatterpolar\":[{\"marker\":{\"colorbar\":{\"outlinewidth\":0,\"ticks\":\"\"}},\"type\":\"scatterpolar\"}],\"scatter\":[{\"marker\":{\"colorbar\":{\"outlinewidth\":0,\"ticks\":\"\"}},\"type\":\"scatter\"}],\"scatterternary\":[{\"marker\":{\"colorbar\":{\"outlinewidth\":0,\"ticks\":\"\"}},\"type\":\"scatterternary\"}],\"surface\":[{\"colorbar\":{\"outlinewidth\":0,\"ticks\":\"\"},\"colorscale\":[[0.0,\"#0d0887\"],[0.1111111111111111,\"#46039f\"],[0.2222222222222222,\"#7201a8\"],[0.3333333333333333,\"#9c179e\"],[0.4444444444444444,\"#bd3786\"],[0.5555555555555556,\"#d8576b\"],[0.6666666666666666,\"#ed7953\"],[0.7777777777777778,\"#fb9f3a\"],[0.8888888888888888,\"#fdca26\"],[1.0,\"#f0f921\"]],\"type\":\"surface\"}],\"table\":[{\"cells\":{\"fill\":{\"color\":\"#EBF0F8\"},\"line\":{\"color\":\"white\"}},\"header\":{\"fill\":{\"color\":\"#C8D4E3\"},\"line\":{\"color\":\"white\"}},\"type\":\"table\"}]},\"layout\":{\"annotationdefaults\":{\"arrowcolor\":\"#2a3f5f\",\"arrowhead\":0,\"arrowwidth\":1},\"autotypenumbers\":\"strict\",\"coloraxis\":{\"colorbar\":{\"outlinewidth\":0,\"ticks\":\"\"}},\"colorscale\":{\"diverging\":[[0,\"#8e0152\"],[0.1,\"#c51b7d\"],[0.2,\"#de77ae\"],[0.3,\"#f1b6da\"],[0.4,\"#fde0ef\"],[0.5,\"#f7f7f7\"],[0.6,\"#e6f5d0\"],[0.7,\"#b8e186\"],[0.8,\"#7fbc41\"],[0.9,\"#4d9221\"],[1,\"#276419\"]],\"sequential\":[[0.0,\"#0d0887\"],[0.1111111111111111,\"#46039f\"],[0.2222222222222222,\"#7201a8\"],[0.3333333333333333,\"#9c179e\"],[0.4444444444444444,\"#bd3786\"],[0.5555555555555556,\"#d8576b\"],[0.6666666666666666,\"#ed7953\"],[0.7777777777777778,\"#fb9f3a\"],[0.8888888888888888,\"#fdca26\"],[1.0,\"#f0f921\"]],\"sequentialminus\":[[0.0,\"#0d0887\"],[0.1111111111111111,\"#46039f\"],[0.2222222222222222,\"#7201a8\"],[0.3333333333333333,\"#9c179e\"],[0.4444444444444444,\"#bd3786\"],[0.5555555555555556,\"#d8576b\"],[0.6666666666666666,\"#ed7953\"],[0.7777777777777778,\"#fb9f3a\"],[0.8888888888888888,\"#fdca26\"],[1.0,\"#f0f921\"]]},\"colorway\":[\"#636efa\",\"#EF553B\",\"#00cc96\",\"#ab63fa\",\"#FFA15A\",\"#19d3f3\",\"#FF6692\",\"#B6E880\",\"#FF97FF\",\"#FECB52\"],\"font\":{\"color\":\"#2a3f5f\"},\"geo\":{\"bgcolor\":\"white\",\"lakecolor\":\"white\",\"landcolor\":\"white\",\"showlakes\":true,\"showland\":true,\"subunitcolor\":\"#C8D4E3\"},\"hoverlabel\":{\"align\":\"left\"},\"hovermode\":\"closest\",\"mapbox\":{\"style\":\"light\"},\"paper_bgcolor\":\"white\",\"plot_bgcolor\":\"white\",\"polar\":{\"angularaxis\":{\"gridcolor\":\"#EBF0F8\",\"linecolor\":\"#EBF0F8\",\"ticks\":\"\"},\"bgcolor\":\"white\",\"radialaxis\":{\"gridcolor\":\"#EBF0F8\",\"linecolor\":\"#EBF0F8\",\"ticks\":\"\"}},\"scene\":{\"xaxis\":{\"backgroundcolor\":\"white\",\"gridcolor\":\"#DFE8F3\",\"gridwidth\":2,\"linecolor\":\"#EBF0F8\",\"showbackground\":true,\"ticks\":\"\",\"zerolinecolor\":\"#EBF0F8\"},\"yaxis\":{\"backgroundcolor\":\"white\",\"gridcolor\":\"#DFE8F3\",\"gridwidth\":2,\"linecolor\":\"#EBF0F8\",\"showbackground\":true,\"ticks\":\"\",\"zerolinecolor\":\"#EBF0F8\"},\"zaxis\":{\"backgroundcolor\":\"white\",\"gridcolor\":\"#DFE8F3\",\"gridwidth\":2,\"linecolor\":\"#EBF0F8\",\"showbackground\":true,\"ticks\":\"\",\"zerolinecolor\":\"#EBF0F8\"}},\"shapedefaults\":{\"line\":{\"color\":\"#2a3f5f\"}},\"ternary\":{\"aaxis\":{\"gridcolor\":\"#DFE8F3\",\"linecolor\":\"#A2B1C6\",\"ticks\":\"\"},\"baxis\":{\"gridcolor\":\"#DFE8F3\",\"linecolor\":\"#A2B1C6\",\"ticks\":\"\"},\"bgcolor\":\"white\",\"caxis\":{\"gridcolor\":\"#DFE8F3\",\"linecolor\":\"#A2B1C6\",\"ticks\":\"\"}},\"title\":{\"x\":0.05},\"xaxis\":{\"automargin\":true,\"gridcolor\":\"#EBF0F8\",\"linecolor\":\"#EBF0F8\",\"ticks\":\"\",\"title\":{\"standoff\":15},\"zerolinecolor\":\"#EBF0F8\",\"zerolinewidth\":2},\"yaxis\":{\"automargin\":true,\"gridcolor\":\"#EBF0F8\",\"linecolor\":\"#EBF0F8\",\"ticks\":\"\",\"title\":{\"standoff\":15},\"zerolinecolor\":\"#EBF0F8\",\"zerolinewidth\":2}}},\"margin\":{\"l\":100,\"r\":100,\"b\":100,\"t\":100,\"pad\":2},\"yaxis\":{\"tick0\":0,\"dtick\":100000,\"title\":{\"text\":\"Best fitness function\"}},\"autosize\":false,\"title\":{\"text\":\"GA performance\"},\"width\":900,\"height\":800,\"xaxis\":{\"title\":{\"text\":\"Number of trials\"}}},                        {\"responsive\": true}                    ).then(function(){\n",
              "                            \n",
              "var gd = document.getElementById('eb12ca4c-9a32-44d5-845e-39084faa3c03');\n",
              "var x = new MutationObserver(function (mutations, observer) {{\n",
              "        var display = window.getComputedStyle(gd).display;\n",
              "        if (!display || display === 'none') {{\n",
              "            console.log([gd, 'removed!']);\n",
              "            Plotly.purge(gd);\n",
              "            observer.disconnect();\n",
              "        }}\n",
              "}});\n",
              "\n",
              "// Listen for the removal of the full notebook cells\n",
              "var notebookContainer = gd.closest('#notebook-container');\n",
              "if (notebookContainer) {{\n",
              "    x.observe(notebookContainer, {childList: true});\n",
              "}}\n",
              "\n",
              "// Listen for the clearing of the current output cell\n",
              "var outputEl = gd.closest('.output');\n",
              "if (outputEl) {{\n",
              "    x.observe(outputEl, {childList: true});\n",
              "}}\n",
              "\n",
              "                        })                };                            </script>        </div>\n",
              "</body>\n",
              "</html>"
            ]
          },
          "metadata": {}
        }
      ]
    }
  ],
  "metadata": {
    "colab": {
      "collapsed_sections": [],
      "provenance": []
    },
    "kernelspec": {
      "display_name": "Python 3",
      "name": "python3"
    },
    "language_info": {
      "name": "python"
    }
  },
  "nbformat": 4,
  "nbformat_minor": 0
}