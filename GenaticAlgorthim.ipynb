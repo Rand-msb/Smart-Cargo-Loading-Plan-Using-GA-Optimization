{
  "cells": [
    {
      "cell_type": "markdown",
      "metadata": {
        "id": "4KD3VLtsBkES"
      },
      "source": [
        "## **IT426**\n",
        "---\n",
        "### Artificial Intelligence Systems\n",
        "### Project Phase#2\n",
        "### Smart Cargo Loading Plan Using GA Optimization\n",
        "---\n",
        "#### presented by **Group#4** Members:\n",
        "##### Manar Bin Mutaieb \n",
        "##### Ghadeer AlMaymoon \n",
        "##### Randa Bakhashwain\n",
        "##### Manar AlMalki \n",
        "\n"
      ]
    },
    {
      "cell_type": "markdown",
      "metadata": {
        "id": "_QIu4JB1DPyi"
      },
      "source": [
        "**1.Import needed Libraries**"
      ]
    },
    {
      "cell_type": "code",
      "execution_count": null,
      "metadata": {
        "id": "n5r5pd8Ni2Gz"
      },
      "outputs": [],
      "source": [
        "import random as rnd\n",
        "import numpy as np\n",
        "import pandas as pd\n",
        "import matplotlib.pyplot as plt\n",
        "import plotly.graph_objects as go\n",
        "import statistics\n",
        "import math"
      ]
    },
    {
      "cell_type": "code",
      "execution_count": null,
      "metadata": {
        "id": "orCAdZ7hlmMl"
      },
      "outputs": [],
      "source": [
        "#global varibale to count the number of fitness function calls (max of 10,000)\n",
        "fitnessFunctionCallCounter = 0"
      ]
    },
    {
      "cell_type": "markdown",
      "metadata": {
        "id": "gQMKvnr0CMT1"
      },
      "source": [
        "**2.Define needed functions**"
      ]
    },
    {
      "cell_type": "code",
      "execution_count": null,
      "metadata": {
        "id": "ZOWch_NqnAsG"
      },
      "outputs": [],
      "source": [
        "#the initial_population function that will return to me all initail population *includes other defined methods*\n",
        "\n",
        "def initial_population(initial_populationSize,NumberOfContainers, NumberOfitems, containerList, itemWeight):\n",
        "  #choose randomly the population size from the number [minimum] to the [maximum] number of containers (which is 100) \n",
        "  #initial_population = rnd.choice(range(2,100))\n",
        "  initial_population = initial_populationSize\n",
        "  \n",
        "  #this array will have all the initial population\n",
        "  initial_populationArray = []\n",
        "\n",
        "  #this lopp will first: 1- create Chromosome Base. 2- suffle the item weight array.\n",
        "  #3- will combile both previous arrays so each gene will have [container#, item#]\n",
        "  for i in range(initial_population):\n",
        "\n",
        "    #we will create the chromosome base with different combination of container's numbers\n",
        "    chromosomeBase = createChromosomeBase(NumberOfContainers, NumberOfitems, containerList)\n",
        "    \n",
        "    #we will create the final indivisual chromosome\n",
        "    finalChromosome = createfinalChromosome(chromosomeBase, itemWeight)\n",
        "\n",
        "    #we will add the chromosome to the initial_population Array\n",
        "    initial_populationArray.append(finalChromosome)\n",
        "\n",
        "  return (initial_populationArray)"
      ]
    },
    {
      "cell_type": "code",
      "execution_count": null,
      "metadata": {
        "id": "XYYBqJzGnJL2"
      },
      "outputs": [],
      "source": [
        "#this function create an the chromosome container base array with the length of number of items \n",
        "#createCromosomeBase(the number of containers, the number of items,containerList) --result--> a shuffled contaner list of the number of items length\n",
        "#example: createCromosomeBase(5,3,containerList) --result--> [C3C1C2C1C3] or [C1C3C3C2C3] or ....\n",
        "\n",
        "def createChromosomeBase(NumberOfContainers, NumberOfitems, containerList):\n",
        "  ChromosomeBase = []\n",
        "  #this loop will make sure that there is at lest one container from each number in the array\n",
        "  for i in range(NumberOfContainers):\n",
        "    ChromosomeBase.append(containerList[i])\n",
        "\n",
        "  #we will subtract the already filled slots from NumberOfContainers for the random assignment loop\n",
        "  NumberOfitems = NumberOfitems-(i+1)\n",
        "\n",
        "  #this loop will addign the rest of the remaining slots with random container number\n",
        "  for i in range(NumberOfitems):\n",
        "    ChromosomeBase.append(rnd.sample(containerList, k=1)[0])\n",
        "\n",
        "  #we will shuffle the ChromosomeBase  \n",
        "  rnd.shuffle(ChromosomeBase)\n",
        "  \n",
        "  return (ChromosomeBase)"
      ]
    },
    {
      "cell_type": "code",
      "execution_count": null,
      "metadata": {
        "id": "QB93wiUenUjC"
      },
      "outputs": [],
      "source": [
        "#this function connects th chromosomebase with the items to have the final chromosome\n",
        "\n",
        "def createfinalChromosome(chromosomeBase, itemWeight):\n",
        "  finalChromosome = []\n",
        "  #to iterate over itemWeight array\n",
        "  j = 0;\n",
        "  for i in chromosomeBase:\n",
        "    finalChromosome.append([i[9:], itemWeight[j][0][4:]])\n",
        "    j +=1 \n",
        "    \n",
        "  return (finalChromosome)"
      ]
    },
    {
      "cell_type": "code",
      "execution_count": null,
      "metadata": {
        "id": "eaRVzXl-KjG-"
      },
      "outputs": [],
      "source": [
        "#this function calcultaes the fitness of each chromosome based on: \n",
        "#f(x) = sum(|weight of Ci - idealWeightSum|)\n",
        "#idealWeightSum = sum of all weights / NumberOfContainers\n",
        "#weight of Ci = total weight of items in container i\n",
        "\n",
        "def Compute_Fitness(incremntCounter,sumWeight, NumberOfContainers, populationArray):\n",
        "  #an array to store the final result of this method [chromosome#, fittnes function result]\n",
        "  fitnessResult = []\n",
        "  indexOfChromo = 0\n",
        "  global fitnessFunctionCallCounter \n",
        "  #Calculate ideal sum of weights idealWeightSum \n",
        "  idealWeightSum = sumWeight / NumberOfContainers\n",
        "\n",
        "  #loop through each chromosome and calculate the sum of weights for each container and store it in array [sum of weights for c1, ... , sum of weights for cn]\n",
        "  for i in populationArray:\n",
        "    indexOfChromo += 1\n",
        "\n",
        "    #true when we are calculationg the fitness of the initial population and calculating the offsprings fitness\n",
        "    if (incremntCounter):\n",
        "      fitnessFunctionCallCounter += 1\n",
        "\n",
        "    #initialize weihgtsArray that will store the sum of weight for each container\n",
        "    weightsArray=[]\n",
        "    weightsArray= [0 for i in range(NumberOfContainers)] \n",
        "    #store f(x) result\n",
        "    sumOfDiffweight = 0\n",
        "    #container index\n",
        "    indexContianer = 0\n",
        "    #i is a chromosome\n",
        "    #j is a gene [contaner#,item#]\n",
        "    for j in i:\n",
        "      #k is the number of container we will use it (k-1) to index weihgtsArray\n",
        "      #j[1][1] will contain the weight of the items in container k\n",
        "      k = int(j[0])\n",
        "      weightsArray[k-1] += weightList[int(j[1])-1]\n",
        "\n",
        "    #this loop will subtract each value in weihgtsArray from the idealWeightSum then it will calculate its sum\n",
        "    for weightOfCi in weightsArray:\n",
        "      indexContianer += 1\n",
        "      #take absolute value\n",
        "      diffWeights = abs(weightOfCi-idealWeightSum)\n",
        "      sumOfDiffweight += diffWeights\n",
        "    fitnessResult.append(['Chromosome' + str(indexOfChromo),sumOfDiffweight])\n",
        "  if (incremntCounter):\n",
        "    print(\"Total calls of fitness function: \" + str(fitnessFunctionCallCounter))\n",
        "  return (fitnessResult)"
      ]
    },
    {
      "cell_type": "code",
      "execution_count": null,
      "metadata": {
        "id": "PcDJYtLqLKkD"
      },
      "outputs": [],
      "source": [
        "#to view the fitness function results in a table\n",
        "def MakeFitnessTable(fitnessResult, tableHeader, printTable):\n",
        "  FitnessTable = pd.DataFrame(fitnessResult, columns=(tableHeader, 'FitnessFunction'))\n",
        "  FitnessTable['FitnessFunction'] = FitnessTable['FitnessFunction'].apply('{:0<4}'.format)\n",
        "  FitnessTable = FitnessTable.sort_values(by=\"FitnessFunction\",ascending=False)\n",
        "  if(printTable):\n",
        "    print('=================Fitness Table=================')\n",
        "    print(FitnessTable)\n",
        "  return (FitnessTable)"
      ]
    },
    {
      "cell_type": "code",
      "execution_count": null,
      "metadata": {
        "id": "PTpJelOVGUkO"
      },
      "outputs": [],
      "source": [
        "# to find the worst chromosome in a population\n",
        "def findWorstInPopulation(FitnessTable):\n",
        "  # sort the fitness table in descending order\n",
        "  FitnessTable = FitnessTable.sort_values(by=\"FitnessFunction\",ascending=False)\n",
        "  #take the first row (worst chromosome)\n",
        "  worstInPop = FitnessTable.iloc[0:1]\n",
        "  print('--------Worst in Population--------')\n",
        "  print(worstInPop)\n",
        "  #take the index of the worst chromosome in the population\n",
        "  worstInPopIndex = worstInPop.index[0]\n",
        "  return (worstInPopIndex)"
      ]
    },
    {
      "cell_type": "code",
      "execution_count": null,
      "metadata": {
        "id": "j9tgfNYxyNfC"
      },
      "outputs": [],
      "source": [
        "#2. Use binary tournament selection (with replacement) twice to select two parents a and b.\n",
        "#select two chromosomes from the population and make them as parent A, B\n",
        "def BinaryTournamentSelection (populationArray) :\n",
        "  print('=================Binary Tournament Selection=================')\n",
        "  #group two parents in one array\n",
        "  parents = []\n",
        "  randomSelction = rnd.sample(populationArray, 2) \n",
        "  parentA = randomSelction[0]\n",
        "  parentB = randomSelction[1]\n",
        "  print(\"parent A:\")\n",
        "  print(parentA)\n",
        "  parents.append(parentA)\n",
        "  print(\"parent B:\")\n",
        "  print(parentB)\n",
        "  parents.append(parentB)\n",
        "  return(parents)"
      ]
    },
    {
      "cell_type": "code",
      "execution_count": null,
      "metadata": {
        "id": "imQHITcA3bYH"
      },
      "outputs": [],
      "source": [
        "#3.\tRun single-point crossover on these parents to give 2 children, e and f.\n",
        "def singlePointCrossover (parentA, parentB) :\n",
        "  print('=================single Point Crossover=================')\n",
        "  #group two offsprings in one array\n",
        "  crossOverOffSprings = []\n",
        "  #select a random crossover point\n",
        "  crossOverPoint = rnd.choice(range(0,NumberOfitems-1))\n",
        "  print(\"Crossover Point: \" + str(crossOverPoint))\n",
        "  offSpringE = parentA[0:crossOverPoint] + parentB[crossOverPoint:]\n",
        "  offSpringF = parentB[0:crossOverPoint] + parentA[crossOverPoint:]\n",
        "  print(\"offSpring E:\")\n",
        "  print(offSpringE)\n",
        "  crossOverOffSprings.append(offSpringE)\n",
        "  print(\"offSpring F:\")\n",
        "  crossOverOffSprings.append(offSpringF)\n",
        "  print(offSpringF)\n",
        "  return(crossOverOffSprings)"
      ]
    },
    {
      "cell_type": "code",
      "execution_count": null,
      "metadata": {
        "id": "mH8icOw8mq4d"
      },
      "outputs": [],
      "source": [
        "#4-1.\tRun mutation on e and f to give two new solutions u and v.\n",
        "def mutation (offSpringE, offSpringF, MutationOperator) :\n",
        "  print('=================Mutation=================')\n",
        "\n",
        "  #group two offsprings in one array\n",
        "  mutationOffSprings = []\n",
        "  K = MutationOperator\n",
        "  offSpringU = offSpringE\n",
        "  offSpringV = offSpringF\n",
        "\n",
        "  for i in range(K):\n",
        "    print('\\n--------Mutation round ' + str(i+1) + '--------')\n",
        "    \n",
        "    #choose the index of the gene that will be mutated\n",
        "    locusU = rnd.randint(0,NumberOfitems-1)\n",
        "    locusV = rnd.randint(0,NumberOfitems-1)\n",
        "\n",
        "    print(\"Locus U -index-: \" + str(locusU))\n",
        "    print(\"Locus V -index-: \" + str(locusV))\n",
        "\n",
        "    #store the gene to be mutated\n",
        "    mutationGeneU = offSpringU[locusU]\n",
        "    mutationGeneV = offSpringV[locusV]\n",
        "\n",
        "    #make a copy so that it won't affect the original population\n",
        "    mutationGeneUCopy = mutationGeneU.copy()\n",
        "    mutationGeneVCopy = mutationGeneV.copy()\n",
        "\n",
        "    #choose the container that will be replace the original containers\n",
        "    replaceContainerU = rnd.randint(1,NumberOfContainers)\n",
        "    replaceContainerV = rnd.randint(1,NumberOfContainers)\n",
        "\n",
        "    print(\"Replace gene U's container with container#: \"+ str(replaceContainerU) )\n",
        "    print(\"Replace gene V's container with container#: \"+ str(replaceContainerV) )\n",
        "\n",
        "    #replace the containers with the chosen container\n",
        "    mutationGeneUCopy[0] = str(replaceContainerU)\n",
        "    mutationGeneVCopy[0] = str(replaceContainerV)\n",
        "\n",
        "    #the offsprings after mutation\n",
        "    offSpringU[locusU] = mutationGeneUCopy\n",
        "    offSpringV[locusV] = mutationGeneVCopy\n",
        "\n",
        "    print('Offspring U after mutation:')\n",
        "    print(offSpringU)\n",
        "    print('Offspring V after mutation:')\n",
        "    print(offSpringV)\n",
        "  \n",
        "  mutationOffSprings.append(offSpringU)\n",
        "  mutationOffSprings.append(offSpringV)\n",
        "  return (mutationOffSprings)"
      ]
    },
    {
      "cell_type": "code",
      "execution_count": null,
      "metadata": {
        "id": "_Y6pDxb_JbRN"
      },
      "outputs": [],
      "source": [
        "#weakest replacement method\n",
        "def weakestReplacement(offSpring,indexGene,fitnessResult,offsprintfitnessResult,populationArray,FitnessTable):\n",
        "  print('=================Weakest Replacement=================')\n",
        "  isReplaced = False\n",
        "  #find worst in population\n",
        "  worstInPopIndex = findWorstInPopulation(FitnessTable)\n",
        "  #is it better than worst in populatyon?\n",
        "  if (offsprintfitnessResult[indexGene][1] < fitnessResult[worstInPopIndex][1]):\n",
        "    print('the folowing offspring has a fittness result (' + str(offsprintfitnessResult[indexGene][1]) + ') which is better than the worst chromosome in population (' + str(fitnessResult[worstInPopIndex][1]) + ')\\n')\n",
        "    #replace\n",
        "    populationArray[worstInPopIndex] = offSpring\n",
        "    isReplaced = True\n",
        "  else:\n",
        "    print('the folowing offspring has a fittness result (' + str(offsprintfitnessResult[indexGene][1]) + ') which is worse than the worst chromosome in population (' + str(fitnessResult[worstInPopIndex][1]) + ')\\n')\n",
        "  return(isReplaced)"
      ]
    },
    {
      "cell_type": "code",
      "execution_count": null,
      "metadata": {
        "id": "CcVX8j2IvBts"
      },
      "outputs": [],
      "source": [
        "#trail method\n",
        "def trail(populationSize, crossOverFlag, MK, seed):\n",
        "  #seed = number of experiment + trial iteration number\n",
        "  print('-------------------SEED = ' + seed + '-------------------')\n",
        "  rnd.seed(int(seed))\n",
        "\n",
        "  #To avoid having false from the first time , we need to define it \n",
        "  global fitnessFunctionCallCounter\n",
        "  fitnessFunctionCallCounter = 0\n",
        "  #the initial_population function that will return to me all initail population *implemented in the boxes above*\n",
        "  populationArray = initial_population(populationSize,NumberOfContainers, NumberOfitems, containerList, itemWeight)\n",
        "  #to view the complete initial population in a table\n",
        "  columnsList = []\n",
        "  rowList = []\n",
        "  for j in range (NumberOfitems):\n",
        "    columnsList.append('gene' + str(j+1))\n",
        "  for k in range (len(populationArray)):\n",
        "    rowList.append('chromosome' + str(k+1))     \n",
        "  populationTable = pd.DataFrame(populationArray, index=rowList, columns=columnsList)\n",
        "  print('=================initial population Table=================')\n",
        "  print(populationTable)\n",
        "\n",
        "  #compute fitness and  view the fitness function results in a table\n",
        "  fitnessResult = Compute_Fitness(True,sumWeight, NumberOfContainers, populationArray) \n",
        "  FitnessTable = MakeFitnessTable(fitnessResult, 'Chromosome', True)\n",
        "\n",
        "  # variables initialization\n",
        "  fitnessResultAfter = fitnessResult\n",
        "  fitnessTableAfter = FitnessTable\n",
        "  theOffSpring = []\n",
        "\n",
        "\n",
        "  while True :\n",
        "    fitnessResult = fitnessResultAfter\n",
        "    FitnessTable = fitnessTableAfter\n",
        "    #2. Use binary tournament selection (with replacement) twice to select two parents a and b.\n",
        "    parents = BinaryTournamentSelection(populationArray)\n",
        "    \n",
        "    #3.\tRun single-point crossover on these parents to give 2 children, e and f.\n",
        "    # (crossOverFlag == true) --> single crossover is applied\n",
        "    # (crossOverFlag == false) --> single crossover is not applied\n",
        "    if (crossOverFlag):\n",
        "      crossOverOffSprings = singlePointCrossover(parents[0], parents[1])\n",
        "\n",
        "    #4.\tRun mutation on e and f to give two new solutions u and v. Evaluate the fitness of u and v. \n",
        "    # (MK == 0) --> mutation is not applied\n",
        "    # (MK != 0) -->  mutation is applied\n",
        "    if (MK == 0):\n",
        "      theOffSpring = crossOverOffSprings\n",
        "    elif(MK != 0):\n",
        "      if (crossOverFlag == False):\n",
        "         mutationOffSprings = mutation(parents[0], parents[1], MK)\n",
        "      else:\n",
        "        mutationOffSprings = mutation(crossOverOffSprings[0], crossOverOffSprings[1], MK)\n",
        "      theOffSpring = mutationOffSprings\n",
        "\n",
        "    #compute fitness and  view the fitness function results in a table\n",
        "    offsprintfitnessResult = Compute_Fitness(True,sumWeight, NumberOfContainers, theOffSpring) \n",
        "    offsprintfitnessResultTable = MakeFitnessTable(offsprintfitnessResult, 'Offspring', True)\n",
        "  \n",
        "    #5.\tRun weakest replacement, firstly for u, then v.\n",
        "    # weakest replacement for offspring U:\n",
        "    isReplaced = weakestReplacement(theOffSpring[0],0,fitnessResult,offsprintfitnessResult,populationArray,FitnessTable)\n",
        "    #if there is a replacement then re-compute fitness \n",
        "    if (isReplaced):\n",
        "      fitnessResultAfter = Compute_Fitness(False,sumWeight, NumberOfContainers, populationArray) \n",
        "      fitnessTableAfter = MakeFitnessTable(fitnessResultAfter, 'Offspring', False)\n",
        "\n",
        "    # weakest replacement for offspring V:\n",
        "    isReplaced = weakestReplacement(theOffSpring[1],1,fitnessResultAfter,offsprintfitnessResult,populationArray,fitnessTableAfter)\n",
        "     #if there is a replacement then re-compute fitness \n",
        "    if (isReplaced):\n",
        "      fitnessResultAfter = Compute_Fitness(False,sumWeight, NumberOfContainers, populationArray) \n",
        "      fitnessTableAfter = MakeFitnessTable(fitnessResultAfter, 'Offspring', False)\n",
        "\n",
        "    #6.\tIf a termination criterion has been reached, then stop. Otherwise return to step 2. \n",
        "    #if a maximum number of fitness evaluations is reached (10,000) --> Terminate\n",
        "    if (fitnessFunctionCallCounter == 10000):\n",
        "      break \n",
        "\n",
        "  #Store the best fitness value from the population after the trial ends\n",
        "  bestFitnessValue = float(min(fitnessTableAfter['FitnessFunction']))\n",
        "  return(bestFitnessValue)"
      ]
    },
    {
      "cell_type": "code",
      "execution_count": null,
      "metadata": {
        "id": "ET8yW6KR3tIH"
      },
      "outputs": [],
      "source": [
        "def Expirment(populationSize, crossOverFlag, MK, numOfTrail, ExpirmentNumber):\n",
        "  bestFitnessValueList = []\n",
        "\n",
        "  for i in range(numOfTrail):\n",
        "    print('=================Trail_' + str(i+1) + '=================')\n",
        "    bestfitnessValue = trail(populationSize, crossOverFlag, MK, (str(ExpirmentNumber)+str(i)))\n",
        "    bestFitnessValueList.append([\"Ex_\"+str(ExpirmentNumber),\"Trail_\" + str(i+1), bestfitnessValue])\n",
        "    \n",
        "  return (bestFitnessValueList)"
      ]
    },
    {
      "cell_type": "markdown",
      "metadata": {
        "id": "FSC8j0ctDf1x"
      },
      "source": [
        "**3.Ask user for inputs**"
      ]
    },
    {
      "cell_type": "code",
      "execution_count": null,
      "metadata": {
        "colab": {
          "base_uri": "https://localhost:8080/"
        },
        "id": "ELptIGuCjt3f",
        "outputId": "b29ad0c4-856e-4f4a-ff2b-77fa2a4b6e26"
      },
      "outputs": [
        {
          "output_type": "stream",
          "name": "stdout",
          "text": [
            "Enter number of containers:10\n",
            "Enter number of  item/s:200\n",
            "You have: 10 containers and 200 item/s\n"
          ]
        }
      ],
      "source": [
        "#to apply the try-catch we used the code from the following link: https://stackoverflow.com/questions/23294658/asking-the-user-for-input-until-they-give-a-valid-response\n",
        "#check the number of containers\n",
        "while True:\n",
        "    try:\n",
        "        #Ask the user for how many containers he have\n",
        "        NumberOfContainers = int(input(\"Enter number of containers:\"))\n",
        "    except ValueError:\n",
        "        print(\"Only integer numbers are valid\")\n",
        "        continue\n",
        "\n",
        "\n",
        "    if NumberOfContainers <= 1:\n",
        "        print(\"Only integer numbers that are greater than one are valid\")\n",
        "        continue\n",
        "    else:\n",
        "        #Number Of Containers was successfully parsed.\n",
        "        #exit the loop.\n",
        "        break\n",
        "\n",
        "#check the number of items\n",
        "while True:\n",
        "    try:\n",
        "        #Ask the user for how many items he have \n",
        "        NumberOfitems = int(input(\"Enter number of  item/s:\"))\n",
        "    except ValueError:\n",
        "        print(\"Only integer numbers are valid\")\n",
        "        continue\n",
        "\n",
        "    if NumberOfitems <= NumberOfContainers:\n",
        "        print(\"Only integer numbers that are greater than the Number Of Containers are valid\")\n",
        "        continue\n",
        "    else:\n",
        "        #Number Of  item/s: was successfully parsed.\n",
        "        #exit the loop.\n",
        "        break\n",
        "\n",
        "print(\"You have: \" + str(NumberOfContainers) + \" containers\" + \" and \" + str(NumberOfitems) + \" item/s\")"
      ]
    },
    {
      "cell_type": "code",
      "execution_count": null,
      "metadata": {
        "colab": {
          "base_uri": "https://localhost:8080/"
        },
        "id": "bgNPyN7ddttG",
        "outputId": "892ebb4d-4777-43d7-94d3-0230f4030768"
      },
      "outputs": [
        {
          "name": "stdout",
          "output_type": "stream",
          "text": [
            "choose an option for calculating the weight:\n",
            "Option 1: The weight of item 𝑖 (where 𝑖 starts at 1 and finishes at n) will be  i/2 \n",
            "Option 2: The weight of item 𝑖 (where 𝑖 starts at 1 and finishes at n) will be i^2/2.1\n"
          ]
        }
      ],
      "source": [
        "#Ask which way the user would like to calculate the weights\n",
        "print(\"choose an option for calculating the weight:\")\n",
        "#check the option\n",
        "while True:\n",
        "    try:\n",
        "      WeightOption = int(input(\"Option 1: The weight of item 𝑖 (where 𝑖 starts at 1 and finishes at n) will be  i/2 \\nOption 2: The weight of item 𝑖 (where 𝑖 starts at 1 and finishes at n) will be i^2/2.\"))\n",
        "    except ValueError:\n",
        "      print(\"Only 1 , 2 are valid\")\n",
        "      continue\n",
        "\n",
        "    if WeightOption != 1 and WeightOption != 2:\n",
        "        print(\"Only 1 , 2 are valid\")\n",
        "        continue\n",
        "    else:\n",
        "        #option is correct.\n",
        "        #exit the loop.\n",
        "        break"
      ]
    },
    {
      "cell_type": "markdown",
      "metadata": {
        "id": "ikb260xEDnpr"
      },
      "source": [
        "**4.Search Space Implementation**"
      ]
    },
    {
      "cell_type": "code",
      "execution_count": null,
      "metadata": {
        "id": "ZOYWQCqYulaU"
      },
      "outputs": [],
      "source": [
        "#Make a list of containers for search space [container#]\n",
        "containerList =[]\n",
        "for i in range (1,NumberOfContainers+1):\n",
        "  containerList.append(\"conatiner\" + str(i))"
      ]
    },
    {
      "cell_type": "code",
      "execution_count": null,
      "metadata": {
        "id": "HRIvM_e0ckqT"
      },
      "outputs": [],
      "source": [
        "#Make a list of items Weight where it has [item#, wight]\n",
        "itemWeight = []\n",
        "weightList = []\n",
        "#Make a list of Search Space where it has [item#, wight, [containers list]]\n",
        "inputsRepArray = []\n",
        "Weight = 0\n",
        "sumWeight = 0\n",
        "#option1\n",
        "if WeightOption == 1:\n",
        "  for i in range (1,NumberOfitems+1):\n",
        "    Weight = i / 2\n",
        "    #Calculate sum of wiehgts\n",
        "    sumWeight = sumWeight + Weight\n",
        "    itemWeight.append([\"item\"+str(i), Weight])\n",
        "    weightList.append(Weight)\n",
        "    inputsRepArray.append([\"item\"+str(i), Weight, containerList])\n",
        "#option2\n",
        "elif WeightOption == 2:\n",
        "  for i in range (1,NumberOfitems+1):\n",
        "    Weight = i**2 / 2\n",
        "    #Calculate sum of wiehgts\n",
        "    sumWeight = sumWeight + Weight\n",
        "    itemWeight.append([\"item\"+str(i), Weight])\n",
        "    weightList.append(Weight)\n",
        "    inputsRepArray.append([\"item\"+str(i), Weight, containerList])"
      ]
    },
    {
      "cell_type": "code",
      "execution_count": null,
      "metadata": {
        "colab": {
          "base_uri": "https://localhost:8080/",
          "height": 441
        },
        "id": "HnkJ9RSn1Oe7",
        "outputId": "8892af4a-4249-40ef-bc17-eaee38cb6d09"
      },
      "outputs": [
        {
          "output_type": "stream",
          "name": "stdout",
          "text": [
            "=================Inputs Representation Table=================\n"
          ]
        },
        {
          "output_type": "execute_result",
          "data": {
            "text/plain": [
              "        Item  Weight                                Possible_containers\n",
              "0      item1     0.5  [conatiner1, conatiner2, conatiner3, conatiner...\n",
              "1      item2     1.0  [conatiner1, conatiner2, conatiner3, conatiner...\n",
              "2      item3     1.5  [conatiner1, conatiner2, conatiner3, conatiner...\n",
              "3      item4     2.0  [conatiner1, conatiner2, conatiner3, conatiner...\n",
              "4      item5     2.5  [conatiner1, conatiner2, conatiner3, conatiner...\n",
              "..       ...     ...                                                ...\n",
              "195  item196    98.0  [conatiner1, conatiner2, conatiner3, conatiner...\n",
              "196  item197    98.5  [conatiner1, conatiner2, conatiner3, conatiner...\n",
              "197  item198    99.0  [conatiner1, conatiner2, conatiner3, conatiner...\n",
              "198  item199    99.5  [conatiner1, conatiner2, conatiner3, conatiner...\n",
              "199  item200   100.0  [conatiner1, conatiner2, conatiner3, conatiner...\n",
              "\n",
              "[200 rows x 3 columns]"
            ],
            "text/html": [
              "\n",
              "  <div id=\"df-1d2e3b30-b71f-4141-8b77-cb30f4020f23\">\n",
              "    <div class=\"colab-df-container\">\n",
              "      <div>\n",
              "<style scoped>\n",
              "    .dataframe tbody tr th:only-of-type {\n",
              "        vertical-align: middle;\n",
              "    }\n",
              "\n",
              "    .dataframe tbody tr th {\n",
              "        vertical-align: top;\n",
              "    }\n",
              "\n",
              "    .dataframe thead th {\n",
              "        text-align: right;\n",
              "    }\n",
              "</style>\n",
              "<table border=\"1\" class=\"dataframe\">\n",
              "  <thead>\n",
              "    <tr style=\"text-align: right;\">\n",
              "      <th></th>\n",
              "      <th>Item</th>\n",
              "      <th>Weight</th>\n",
              "      <th>Possible_containers</th>\n",
              "    </tr>\n",
              "  </thead>\n",
              "  <tbody>\n",
              "    <tr>\n",
              "      <th>0</th>\n",
              "      <td>item1</td>\n",
              "      <td>0.5</td>\n",
              "      <td>[conatiner1, conatiner2, conatiner3, conatiner...</td>\n",
              "    </tr>\n",
              "    <tr>\n",
              "      <th>1</th>\n",
              "      <td>item2</td>\n",
              "      <td>1.0</td>\n",
              "      <td>[conatiner1, conatiner2, conatiner3, conatiner...</td>\n",
              "    </tr>\n",
              "    <tr>\n",
              "      <th>2</th>\n",
              "      <td>item3</td>\n",
              "      <td>1.5</td>\n",
              "      <td>[conatiner1, conatiner2, conatiner3, conatiner...</td>\n",
              "    </tr>\n",
              "    <tr>\n",
              "      <th>3</th>\n",
              "      <td>item4</td>\n",
              "      <td>2.0</td>\n",
              "      <td>[conatiner1, conatiner2, conatiner3, conatiner...</td>\n",
              "    </tr>\n",
              "    <tr>\n",
              "      <th>4</th>\n",
              "      <td>item5</td>\n",
              "      <td>2.5</td>\n",
              "      <td>[conatiner1, conatiner2, conatiner3, conatiner...</td>\n",
              "    </tr>\n",
              "    <tr>\n",
              "      <th>...</th>\n",
              "      <td>...</td>\n",
              "      <td>...</td>\n",
              "      <td>...</td>\n",
              "    </tr>\n",
              "    <tr>\n",
              "      <th>195</th>\n",
              "      <td>item196</td>\n",
              "      <td>98.0</td>\n",
              "      <td>[conatiner1, conatiner2, conatiner3, conatiner...</td>\n",
              "    </tr>\n",
              "    <tr>\n",
              "      <th>196</th>\n",
              "      <td>item197</td>\n",
              "      <td>98.5</td>\n",
              "      <td>[conatiner1, conatiner2, conatiner3, conatiner...</td>\n",
              "    </tr>\n",
              "    <tr>\n",
              "      <th>197</th>\n",
              "      <td>item198</td>\n",
              "      <td>99.0</td>\n",
              "      <td>[conatiner1, conatiner2, conatiner3, conatiner...</td>\n",
              "    </tr>\n",
              "    <tr>\n",
              "      <th>198</th>\n",
              "      <td>item199</td>\n",
              "      <td>99.5</td>\n",
              "      <td>[conatiner1, conatiner2, conatiner3, conatiner...</td>\n",
              "    </tr>\n",
              "    <tr>\n",
              "      <th>199</th>\n",
              "      <td>item200</td>\n",
              "      <td>100.0</td>\n",
              "      <td>[conatiner1, conatiner2, conatiner3, conatiner...</td>\n",
              "    </tr>\n",
              "  </tbody>\n",
              "</table>\n",
              "<p>200 rows × 3 columns</p>\n",
              "</div>\n",
              "      <button class=\"colab-df-convert\" onclick=\"convertToInteractive('df-1d2e3b30-b71f-4141-8b77-cb30f4020f23')\"\n",
              "              title=\"Convert this dataframe to an interactive table.\"\n",
              "              style=\"display:none;\">\n",
              "        \n",
              "  <svg xmlns=\"http://www.w3.org/2000/svg\" height=\"24px\"viewBox=\"0 0 24 24\"\n",
              "       width=\"24px\">\n",
              "    <path d=\"M0 0h24v24H0V0z\" fill=\"none\"/>\n",
              "    <path d=\"M18.56 5.44l.94 2.06.94-2.06 2.06-.94-2.06-.94-.94-2.06-.94 2.06-2.06.94zm-11 1L8.5 8.5l.94-2.06 2.06-.94-2.06-.94L8.5 2.5l-.94 2.06-2.06.94zm10 10l.94 2.06.94-2.06 2.06-.94-2.06-.94-.94-2.06-.94 2.06-2.06.94z\"/><path d=\"M17.41 7.96l-1.37-1.37c-.4-.4-.92-.59-1.43-.59-.52 0-1.04.2-1.43.59L10.3 9.45l-7.72 7.72c-.78.78-.78 2.05 0 2.83L4 21.41c.39.39.9.59 1.41.59.51 0 1.02-.2 1.41-.59l7.78-7.78 2.81-2.81c.8-.78.8-2.07 0-2.86zM5.41 20L4 18.59l7.72-7.72 1.47 1.35L5.41 20z\"/>\n",
              "  </svg>\n",
              "      </button>\n",
              "      \n",
              "  <style>\n",
              "    .colab-df-container {\n",
              "      display:flex;\n",
              "      flex-wrap:wrap;\n",
              "      gap: 12px;\n",
              "    }\n",
              "\n",
              "    .colab-df-convert {\n",
              "      background-color: #E8F0FE;\n",
              "      border: none;\n",
              "      border-radius: 50%;\n",
              "      cursor: pointer;\n",
              "      display: none;\n",
              "      fill: #1967D2;\n",
              "      height: 32px;\n",
              "      padding: 0 0 0 0;\n",
              "      width: 32px;\n",
              "    }\n",
              "\n",
              "    .colab-df-convert:hover {\n",
              "      background-color: #E2EBFA;\n",
              "      box-shadow: 0px 1px 2px rgba(60, 64, 67, 0.3), 0px 1px 3px 1px rgba(60, 64, 67, 0.15);\n",
              "      fill: #174EA6;\n",
              "    }\n",
              "\n",
              "    [theme=dark] .colab-df-convert {\n",
              "      background-color: #3B4455;\n",
              "      fill: #D2E3FC;\n",
              "    }\n",
              "\n",
              "    [theme=dark] .colab-df-convert:hover {\n",
              "      background-color: #434B5C;\n",
              "      box-shadow: 0px 1px 3px 1px rgba(0, 0, 0, 0.15);\n",
              "      filter: drop-shadow(0px 1px 2px rgba(0, 0, 0, 0.3));\n",
              "      fill: #FFFFFF;\n",
              "    }\n",
              "  </style>\n",
              "\n",
              "      <script>\n",
              "        const buttonEl =\n",
              "          document.querySelector('#df-1d2e3b30-b71f-4141-8b77-cb30f4020f23 button.colab-df-convert');\n",
              "        buttonEl.style.display =\n",
              "          google.colab.kernel.accessAllowed ? 'block' : 'none';\n",
              "\n",
              "        async function convertToInteractive(key) {\n",
              "          const element = document.querySelector('#df-1d2e3b30-b71f-4141-8b77-cb30f4020f23');\n",
              "          const dataTable =\n",
              "            await google.colab.kernel.invokeFunction('convertToInteractive',\n",
              "                                                     [key], {});\n",
              "          if (!dataTable) return;\n",
              "\n",
              "          const docLinkHtml = 'Like what you see? Visit the ' +\n",
              "            '<a target=\"_blank\" href=https://colab.research.google.com/notebooks/data_table.ipynb>data table notebook</a>'\n",
              "            + ' to learn more about interactive tables.';\n",
              "          element.innerHTML = '';\n",
              "          dataTable['output_type'] = 'display_data';\n",
              "          await google.colab.output.renderOutput(dataTable, element);\n",
              "          const docLink = document.createElement('div');\n",
              "          docLink.innerHTML = docLinkHtml;\n",
              "          element.appendChild(docLink);\n",
              "        }\n",
              "      </script>\n",
              "    </div>\n",
              "  </div>\n",
              "  "
            ]
          },
          "metadata": {},
          "execution_count": 143
        }
      ],
      "source": [
        "#inputs representation data frame\n",
        "inputsRep = pd.DataFrame(inputsRepArray)\n",
        "inputsRep.columns =['Item', 'Weight', 'Possible_containers']\n",
        "print(\"=================Inputs Representation Table=================\")\n",
        "inputsRep"
      ]
    },
    {
      "cell_type": "code",
      "execution_count": null,
      "metadata": {
        "colab": {
          "base_uri": "https://localhost:8080/"
        },
        "id": "ugup-g_uBPpr",
        "outputId": "db822ffa-2a9b-4593-bd5d-f4b030c017c9"
      },
      "outputs": [
        {
          "output_type": "stream",
          "name": "stdout",
          "text": [
            "The number of all possible solutions = 788657867364790503552363213932185062295135977687173263294742533244359449963403342920304284011984623904177212138919638830257642790242637105061926624952829931113462857270763317237396988943922445621451664240254033291864131227428294853277524242407573903240321257405579568660226031904170324062351700858796178922222789623703897374720000000000000000000000000000000000000000000000000\n"
          ]
        }
      ],
      "source": [
        "#the number of all possible solutions\n",
        "SearchSpace = math.factorial(NumberOfitems)\n",
        "print(\"The number of all possible solutions = \" + str(SearchSpace))"
      ]
    },
    {
      "cell_type": "code",
      "execution_count": null,
      "metadata": {
        "colab": {
          "base_uri": "https://localhost:8080/",
          "height": 235
        },
        "id": "5bH0GmNYBgx3",
        "outputId": "5b8da661-d432-4754-fa79-4ef1f08cbd6c"
      },
      "outputs": [
        {
          "output_type": "execute_result",
          "data": {
            "text/plain": [
              "              gene1    gene2   gene3    gene4   gene5    gene6   gene7  \\\n",
              "chromosome1  [4, 1]   [4, 2]  [3, 3]   [1, 4]  [4, 5]  [10, 6]  [9, 7]   \n",
              "chromosome2  [3, 1]   [1, 2]  [5, 3]   [6, 4]  [1, 5]   [9, 6]  [5, 7]   \n",
              "chromosome3  [6, 1]   [5, 2]  [8, 3]   [6, 4]  [5, 5]   [2, 6]  [2, 7]   \n",
              "chromosome4  [3, 1]  [10, 2]  [4, 3]   [4, 4]  [4, 5]  [10, 6]  [6, 7]   \n",
              "chromosome5  [1, 1]   [9, 2]  [7, 3]  [10, 4]  [9, 5]  [10, 6]  [6, 7]   \n",
              "\n",
              "               gene8   gene9   gene10  ...   gene191   gene192    gene193  \\\n",
              "chromosome1  [10, 8]  [4, 9]  [8, 10]  ...  [4, 191]  [2, 192]  [10, 193]   \n",
              "chromosome2  [10, 8]  [1, 9]  [1, 10]  ...  [2, 191]  [4, 192]   [3, 193]   \n",
              "chromosome3   [9, 8]  [4, 9]  [1, 10]  ...  [1, 191]  [2, 192]  [10, 193]   \n",
              "chromosome4   [4, 8]  [8, 9]  [3, 10]  ...  [5, 191]  [7, 192]   [3, 193]   \n",
              "chromosome5   [2, 8]  [5, 9]  [7, 10]  ...  [9, 191]  [7, 192]   [5, 193]   \n",
              "\n",
              "               gene194   gene195    gene196   gene197   gene198   gene199  \\\n",
              "chromosome1  [10, 194]  [5, 195]   [9, 196]  [6, 197]  [7, 198]  [6, 199]   \n",
              "chromosome2   [9, 194]  [9, 195]   [6, 196]  [7, 197]  [6, 198]  [3, 199]   \n",
              "chromosome3   [1, 194]  [7, 195]   [7, 196]  [8, 197]  [7, 198]  [3, 199]   \n",
              "chromosome4   [6, 194]  [9, 195]   [2, 196]  [1, 197]  [7, 198]  [4, 199]   \n",
              "chromosome5  [10, 194]  [6, 195]  [10, 196]  [5, 197]  [7, 198]  [1, 199]   \n",
              "\n",
              "              gene200  \n",
              "chromosome1  [9, 200]  \n",
              "chromosome2  [1, 200]  \n",
              "chromosome3  [2, 200]  \n",
              "chromosome4  [5, 200]  \n",
              "chromosome5  [3, 200]  \n",
              "\n",
              "[5 rows x 200 columns]"
            ],
            "text/html": [
              "\n",
              "  <div id=\"df-ca6cb833-aa8f-4350-969b-d2d72595678a\">\n",
              "    <div class=\"colab-df-container\">\n",
              "      <div>\n",
              "<style scoped>\n",
              "    .dataframe tbody tr th:only-of-type {\n",
              "        vertical-align: middle;\n",
              "    }\n",
              "\n",
              "    .dataframe tbody tr th {\n",
              "        vertical-align: top;\n",
              "    }\n",
              "\n",
              "    .dataframe thead th {\n",
              "        text-align: right;\n",
              "    }\n",
              "</style>\n",
              "<table border=\"1\" class=\"dataframe\">\n",
              "  <thead>\n",
              "    <tr style=\"text-align: right;\">\n",
              "      <th></th>\n",
              "      <th>gene1</th>\n",
              "      <th>gene2</th>\n",
              "      <th>gene3</th>\n",
              "      <th>gene4</th>\n",
              "      <th>gene5</th>\n",
              "      <th>gene6</th>\n",
              "      <th>gene7</th>\n",
              "      <th>gene8</th>\n",
              "      <th>gene9</th>\n",
              "      <th>gene10</th>\n",
              "      <th>...</th>\n",
              "      <th>gene191</th>\n",
              "      <th>gene192</th>\n",
              "      <th>gene193</th>\n",
              "      <th>gene194</th>\n",
              "      <th>gene195</th>\n",
              "      <th>gene196</th>\n",
              "      <th>gene197</th>\n",
              "      <th>gene198</th>\n",
              "      <th>gene199</th>\n",
              "      <th>gene200</th>\n",
              "    </tr>\n",
              "  </thead>\n",
              "  <tbody>\n",
              "    <tr>\n",
              "      <th>chromosome1</th>\n",
              "      <td>[4, 1]</td>\n",
              "      <td>[4, 2]</td>\n",
              "      <td>[3, 3]</td>\n",
              "      <td>[1, 4]</td>\n",
              "      <td>[4, 5]</td>\n",
              "      <td>[10, 6]</td>\n",
              "      <td>[9, 7]</td>\n",
              "      <td>[10, 8]</td>\n",
              "      <td>[4, 9]</td>\n",
              "      <td>[8, 10]</td>\n",
              "      <td>...</td>\n",
              "      <td>[4, 191]</td>\n",
              "      <td>[2, 192]</td>\n",
              "      <td>[10, 193]</td>\n",
              "      <td>[10, 194]</td>\n",
              "      <td>[5, 195]</td>\n",
              "      <td>[9, 196]</td>\n",
              "      <td>[6, 197]</td>\n",
              "      <td>[7, 198]</td>\n",
              "      <td>[6, 199]</td>\n",
              "      <td>[9, 200]</td>\n",
              "    </tr>\n",
              "    <tr>\n",
              "      <th>chromosome2</th>\n",
              "      <td>[3, 1]</td>\n",
              "      <td>[1, 2]</td>\n",
              "      <td>[5, 3]</td>\n",
              "      <td>[6, 4]</td>\n",
              "      <td>[1, 5]</td>\n",
              "      <td>[9, 6]</td>\n",
              "      <td>[5, 7]</td>\n",
              "      <td>[10, 8]</td>\n",
              "      <td>[1, 9]</td>\n",
              "      <td>[1, 10]</td>\n",
              "      <td>...</td>\n",
              "      <td>[2, 191]</td>\n",
              "      <td>[4, 192]</td>\n",
              "      <td>[3, 193]</td>\n",
              "      <td>[9, 194]</td>\n",
              "      <td>[9, 195]</td>\n",
              "      <td>[6, 196]</td>\n",
              "      <td>[7, 197]</td>\n",
              "      <td>[6, 198]</td>\n",
              "      <td>[3, 199]</td>\n",
              "      <td>[1, 200]</td>\n",
              "    </tr>\n",
              "    <tr>\n",
              "      <th>chromosome3</th>\n",
              "      <td>[6, 1]</td>\n",
              "      <td>[5, 2]</td>\n",
              "      <td>[8, 3]</td>\n",
              "      <td>[6, 4]</td>\n",
              "      <td>[5, 5]</td>\n",
              "      <td>[2, 6]</td>\n",
              "      <td>[2, 7]</td>\n",
              "      <td>[9, 8]</td>\n",
              "      <td>[4, 9]</td>\n",
              "      <td>[1, 10]</td>\n",
              "      <td>...</td>\n",
              "      <td>[1, 191]</td>\n",
              "      <td>[2, 192]</td>\n",
              "      <td>[10, 193]</td>\n",
              "      <td>[1, 194]</td>\n",
              "      <td>[7, 195]</td>\n",
              "      <td>[7, 196]</td>\n",
              "      <td>[8, 197]</td>\n",
              "      <td>[7, 198]</td>\n",
              "      <td>[3, 199]</td>\n",
              "      <td>[2, 200]</td>\n",
              "    </tr>\n",
              "    <tr>\n",
              "      <th>chromosome4</th>\n",
              "      <td>[3, 1]</td>\n",
              "      <td>[10, 2]</td>\n",
              "      <td>[4, 3]</td>\n",
              "      <td>[4, 4]</td>\n",
              "      <td>[4, 5]</td>\n",
              "      <td>[10, 6]</td>\n",
              "      <td>[6, 7]</td>\n",
              "      <td>[4, 8]</td>\n",
              "      <td>[8, 9]</td>\n",
              "      <td>[3, 10]</td>\n",
              "      <td>...</td>\n",
              "      <td>[5, 191]</td>\n",
              "      <td>[7, 192]</td>\n",
              "      <td>[3, 193]</td>\n",
              "      <td>[6, 194]</td>\n",
              "      <td>[9, 195]</td>\n",
              "      <td>[2, 196]</td>\n",
              "      <td>[1, 197]</td>\n",
              "      <td>[7, 198]</td>\n",
              "      <td>[4, 199]</td>\n",
              "      <td>[5, 200]</td>\n",
              "    </tr>\n",
              "    <tr>\n",
              "      <th>chromosome5</th>\n",
              "      <td>[1, 1]</td>\n",
              "      <td>[9, 2]</td>\n",
              "      <td>[7, 3]</td>\n",
              "      <td>[10, 4]</td>\n",
              "      <td>[9, 5]</td>\n",
              "      <td>[10, 6]</td>\n",
              "      <td>[6, 7]</td>\n",
              "      <td>[2, 8]</td>\n",
              "      <td>[5, 9]</td>\n",
              "      <td>[7, 10]</td>\n",
              "      <td>...</td>\n",
              "      <td>[9, 191]</td>\n",
              "      <td>[7, 192]</td>\n",
              "      <td>[5, 193]</td>\n",
              "      <td>[10, 194]</td>\n",
              "      <td>[6, 195]</td>\n",
              "      <td>[10, 196]</td>\n",
              "      <td>[5, 197]</td>\n",
              "      <td>[7, 198]</td>\n",
              "      <td>[1, 199]</td>\n",
              "      <td>[3, 200]</td>\n",
              "    </tr>\n",
              "  </tbody>\n",
              "</table>\n",
              "<p>5 rows × 200 columns</p>\n",
              "</div>\n",
              "      <button class=\"colab-df-convert\" onclick=\"convertToInteractive('df-ca6cb833-aa8f-4350-969b-d2d72595678a')\"\n",
              "              title=\"Convert this dataframe to an interactive table.\"\n",
              "              style=\"display:none;\">\n",
              "        \n",
              "  <svg xmlns=\"http://www.w3.org/2000/svg\" height=\"24px\"viewBox=\"0 0 24 24\"\n",
              "       width=\"24px\">\n",
              "    <path d=\"M0 0h24v24H0V0z\" fill=\"none\"/>\n",
              "    <path d=\"M18.56 5.44l.94 2.06.94-2.06 2.06-.94-2.06-.94-.94-2.06-.94 2.06-2.06.94zm-11 1L8.5 8.5l.94-2.06 2.06-.94-2.06-.94L8.5 2.5l-.94 2.06-2.06.94zm10 10l.94 2.06.94-2.06 2.06-.94-2.06-.94-.94-2.06-.94 2.06-2.06.94z\"/><path d=\"M17.41 7.96l-1.37-1.37c-.4-.4-.92-.59-1.43-.59-.52 0-1.04.2-1.43.59L10.3 9.45l-7.72 7.72c-.78.78-.78 2.05 0 2.83L4 21.41c.39.39.9.59 1.41.59.51 0 1.02-.2 1.41-.59l7.78-7.78 2.81-2.81c.8-.78.8-2.07 0-2.86zM5.41 20L4 18.59l7.72-7.72 1.47 1.35L5.41 20z\"/>\n",
              "  </svg>\n",
              "      </button>\n",
              "      \n",
              "  <style>\n",
              "    .colab-df-container {\n",
              "      display:flex;\n",
              "      flex-wrap:wrap;\n",
              "      gap: 12px;\n",
              "    }\n",
              "\n",
              "    .colab-df-convert {\n",
              "      background-color: #E8F0FE;\n",
              "      border: none;\n",
              "      border-radius: 50%;\n",
              "      cursor: pointer;\n",
              "      display: none;\n",
              "      fill: #1967D2;\n",
              "      height: 32px;\n",
              "      padding: 0 0 0 0;\n",
              "      width: 32px;\n",
              "    }\n",
              "\n",
              "    .colab-df-convert:hover {\n",
              "      background-color: #E2EBFA;\n",
              "      box-shadow: 0px 1px 2px rgba(60, 64, 67, 0.3), 0px 1px 3px 1px rgba(60, 64, 67, 0.15);\n",
              "      fill: #174EA6;\n",
              "    }\n",
              "\n",
              "    [theme=dark] .colab-df-convert {\n",
              "      background-color: #3B4455;\n",
              "      fill: #D2E3FC;\n",
              "    }\n",
              "\n",
              "    [theme=dark] .colab-df-convert:hover {\n",
              "      background-color: #434B5C;\n",
              "      box-shadow: 0px 1px 3px 1px rgba(0, 0, 0, 0.15);\n",
              "      filter: drop-shadow(0px 1px 2px rgba(0, 0, 0, 0.3));\n",
              "      fill: #FFFFFF;\n",
              "    }\n",
              "  </style>\n",
              "\n",
              "      <script>\n",
              "        const buttonEl =\n",
              "          document.querySelector('#df-ca6cb833-aa8f-4350-969b-d2d72595678a button.colab-df-convert');\n",
              "        buttonEl.style.display =\n",
              "          google.colab.kernel.accessAllowed ? 'block' : 'none';\n",
              "\n",
              "        async function convertToInteractive(key) {\n",
              "          const element = document.querySelector('#df-ca6cb833-aa8f-4350-969b-d2d72595678a');\n",
              "          const dataTable =\n",
              "            await google.colab.kernel.invokeFunction('convertToInteractive',\n",
              "                                                     [key], {});\n",
              "          if (!dataTable) return;\n",
              "\n",
              "          const docLinkHtml = 'Like what you see? Visit the ' +\n",
              "            '<a target=\"_blank\" href=https://colab.research.google.com/notebooks/data_table.ipynb>data table notebook</a>'\n",
              "            + ' to learn more about interactive tables.';\n",
              "          element.innerHTML = '';\n",
              "          dataTable['output_type'] = 'display_data';\n",
              "          await google.colab.output.renderOutput(dataTable, element);\n",
              "          const docLink = document.createElement('div');\n",
              "          docLink.innerHTML = docLinkHtml;\n",
              "          element.appendChild(docLink);\n",
              "        }\n",
              "      </script>\n",
              "    </div>\n",
              "  </div>\n",
              "  "
            ]
          },
          "metadata": {},
          "execution_count": 145
        }
      ],
      "source": [
        "#Search space data frame\n",
        "SearchSpace  = initial_population(10,NumberOfContainers, NumberOfitems, containerList, itemWeight)\n",
        "#to view the complete initial population in a table\n",
        "columnsList = []\n",
        "rowList = []\n",
        "\n",
        "for i in range (NumberOfitems):\n",
        "  columnsList.append('gene' + str(i+1))\n",
        "\n",
        "for i in range (len(SearchSpace)):\n",
        "  rowList.append('chromosome' + str(i+1))\n",
        "  \n",
        "SearchSpaceTable = pd.DataFrame(SearchSpace, index=rowList, columns=columnsList)\n",
        "SearchSpaceTable.head()"
      ]
    },
    {
      "cell_type": "markdown",
      "metadata": {
        "id": "qifzRQXiLp7I"
      },
      "source": [
        "**5. Implementation and Experimentation**"
      ]
    },
    {
      "cell_type": "code",
      "execution_count": null,
      "metadata": {
        "id": "Q1-nDHO_S2cx"
      },
      "outputs": [],
      "source": [
        "# an array to store all Expirments Results\n",
        "ExpirmentsResultsList = []"
      ]
    },
    {
      "cell_type": "markdown",
      "metadata": {
        "id": "q3-pYbdWU0Pb"
      },
      "source": [
        "**------------------------Expirment 1------------------------**"
      ]
    },
    {
      "cell_type": "code",
      "execution_count": null,
      "metadata": {
        "id": "boUrG5W6DgXD"
      },
      "outputs": [],
      "source": [
        "# #Expirment 1\n",
        "# bestFitnessValueList = Expirment(10, True, 1, 5, 1)"
      ]
    },
    {
      "cell_type": "code",
      "source": [
        "# print('The Total fitness function calls for expirment 1: ' + str(fitnessFunctionCallCounter))"
      ],
      "metadata": {
        "id": "D73FrBauRUKm"
      },
      "execution_count": null,
      "outputs": []
    },
    {
      "cell_type": "code",
      "execution_count": null,
      "metadata": {
        "id": "PzNptzfoDWpH"
      },
      "outputs": [],
      "source": [
        "# print('=================Trails Table=================')\n",
        "# TrailsTable = pd.DataFrame(bestFitnessValueList, columns=('ExpirmentNumber','TrailNumber', 'bestFitnessValue'))\n",
        "# TrailsTable['bestFitnessValue'] = TrailsTable['bestFitnessValue'].apply('{:0<4}'.format)\n",
        "# TrailsTable.style"
      ]
    },
    {
      "cell_type": "code",
      "execution_count": null,
      "metadata": {
        "id": "-2UqAeINBSMh"
      },
      "outputs": [],
      "source": [
        "# TrailsTable['bestFitnessValue'] = TrailsTable['bestFitnessValue'].astype(float)\n",
        "# Experiment1Trials=TrailsTable['bestFitnessValue']"
      ]
    },
    {
      "cell_type": "code",
      "execution_count": null,
      "metadata": {
        "id": "hFkj1rXqRC6V"
      },
      "outputs": [],
      "source": [
        "# #Calculate the average fitness for all trails\n",
        "# bestFitnessValueAvg = statistics.mean((TrailsTable['bestFitnessValue']))\n",
        "# ExpirmentsResultsList.append([\"Ex_1\", bestFitnessValueAvg])"
      ]
    },
    {
      "cell_type": "code",
      "execution_count": null,
      "metadata": {
        "id": "Zv_bOJw4ipjo"
      },
      "outputs": [],
      "source": [
        "# print('The average fitness for all trails for expirment 1: ' + str(bestFitnessValueAvg))"
      ]
    },
    {
      "cell_type": "code",
      "source": [
        "# #to graph the results of the expirment we used the code from the following link: \n",
        "# https://plotly.com/python/setting-graph-size/\n",
        "# fig = go.Figure()\n",
        "\n",
        "# fig.add_trace(go.Scatter(\n",
        "#     x=TrailsTable['TrailNumber'],\n",
        "#     y= TrailsTable['bestFitnessValue']\n",
        "# ))\n",
        "\n",
        "# fig.update_layout(\n",
        "#     template=\"plotly_white\", #\"plotly\", \"plotly_white\", \"plotly_dark\", \"ggplot2\", \"seaborn\", \"simple_white\"\n",
        "#     title=\"bestFitnessValue vs Trail\",\n",
        "#     autosize=False,\n",
        "#     width=500,\n",
        "#     height=500,\n",
        "#     margin=dict(\n",
        "#         l=50,\n",
        "#         r=50,\n",
        "#         b=100,\n",
        "#         t=100,\n",
        "#         pad=4\n",
        "#     ),\n",
        "#     #paper_bgcolor=\"LightSteelBlue\",\n",
        "# )\n",
        "\n",
        "# fig.show()"
      ],
      "metadata": {
        "id": "iM44ZUL1UwhS"
      },
      "execution_count": null,
      "outputs": []
    },
    {
      "cell_type": "markdown",
      "metadata": {
        "id": "MbilAKvVU9OO"
      },
      "source": [
        "**------------------------Expirment 2------------------------**"
      ]
    },
    {
      "cell_type": "code",
      "execution_count": null,
      "metadata": {
        "id": "EtRNXCkdVNGb"
      },
      "outputs": [],
      "source": [
        "# #Expirment 2\n",
        "# bestFitnessValueList = Expirment(100, True, 1, 5, 2)"
      ]
    },
    {
      "cell_type": "code",
      "source": [
        "# print('The Total fitness function calls for expirment 2: ' + str(fitnessFunctionCallCounter))"
      ],
      "metadata": {
        "id": "EVf_0ksCRQ0b"
      },
      "execution_count": null,
      "outputs": []
    },
    {
      "cell_type": "code",
      "execution_count": null,
      "metadata": {
        "id": "SHHRCkAYVYpr"
      },
      "outputs": [],
      "source": [
        "# print('=================Trails Table=================')\n",
        "# TrailsTable = pd.DataFrame(bestFitnessValueList, columns=('ExpirmentNumber','TrailNumber', 'bestFitnessValue'))\n",
        "# TrailsTable['bestFitnessValue'] = TrailsTable['bestFitnessValue'].apply('{:0<4}'.format)\n",
        "# TrailsTable.style"
      ]
    },
    {
      "cell_type": "code",
      "execution_count": null,
      "metadata": {
        "id": "XJrbD9MhBWKB"
      },
      "outputs": [],
      "source": [
        "# TrailsTable['bestFitnessValue'] = TrailsTable['bestFitnessValue'].astype(float)\n",
        "# Experiment2Trials=TrailsTable['bestFitnessValue']"
      ]
    },
    {
      "cell_type": "code",
      "execution_count": null,
      "metadata": {
        "id": "zvNtOIYTVac7"
      },
      "outputs": [],
      "source": [
        "# #Calculate the average fitness for all trails\n",
        "# bestFitnessValueAvg = statistics.mean((TrailsTable['bestFitnessValue']))\n",
        "# ExpirmentsResultsList.append([\"Ex_2\", bestFitnessValueAvg])"
      ]
    },
    {
      "cell_type": "code",
      "source": [
        "# print('The average fitness for all trails for expirment 2: ' + str(bestFitnessValueAvg))"
      ],
      "metadata": {
        "id": "V3oU3Xe7WSdr"
      },
      "execution_count": null,
      "outputs": []
    },
    {
      "cell_type": "code",
      "source": [
        "# #to graph the results of the expirment we used the code from the following link: \n",
        "# https://plotly.com/python/setting-graph-size/\n",
        "# fig = go.Figure()\n",
        "\n",
        "# fig.add_trace(go.Scatter(\n",
        "#     x=TrailsTable['TrailNumber'],\n",
        "#     y= TrailsTable['bestFitnessValue']\n",
        "# ))\n",
        "\n",
        "# fig.update_layout(\n",
        "#     template=\"plotly_white\", #\"plotly\", \"plotly_white\", \"plotly_dark\", \"ggplot2\", \"seaborn\", \"simple_white\"\n",
        "#     title=\"bestFitnessValue vs Trail\",\n",
        "#     autosize=False,\n",
        "#     width=500,\n",
        "#     height=500,\n",
        "#     margin=dict(\n",
        "#         l=50,\n",
        "#         r=50,\n",
        "#         b=100,\n",
        "#         t=100,\n",
        "#         pad=4\n",
        "#     ),\n",
        "#     #paper_bgcolor=\"LightSteelBlue\",\n",
        "# )\n",
        "\n",
        "# fig.show()"
      ],
      "metadata": {
        "id": "dL7NnPvJWUAa"
      },
      "execution_count": null,
      "outputs": []
    },
    {
      "cell_type": "markdown",
      "metadata": {
        "id": "pUh7jumVVqi2"
      },
      "source": [
        "**------------------------Expirment 3------------------------**"
      ]
    },
    {
      "cell_type": "code",
      "execution_count": null,
      "metadata": {
        "id": "eRMgoa8JVqT4"
      },
      "outputs": [],
      "source": [
        "# #Expirment 3\n",
        "# bestFitnessValueList = Expirment(10, True, 5, 5, 3)"
      ]
    },
    {
      "cell_type": "code",
      "source": [
        "# print('The Total fitness function calls for expirment 3: ' + str(fitnessFunctionCallCounter))"
      ],
      "metadata": {
        "id": "jZRsVo-QRW5V"
      },
      "execution_count": null,
      "outputs": []
    },
    {
      "cell_type": "code",
      "execution_count": null,
      "metadata": {
        "id": "0uEfDjKmW7Z0"
      },
      "outputs": [],
      "source": [
        "# print('=================Trails Table=================')\n",
        "# TrailsTable = pd.DataFrame(bestFitnessValueList, columns=('ExpirmentNumber','TrailNumber', 'bestFitnessValue'))\n",
        "# TrailsTable['bestFitnessValue'] = TrailsTable['bestFitnessValue'].apply('{:0<4}'.format)\n",
        "# TrailsTable.style"
      ]
    },
    {
      "cell_type": "code",
      "execution_count": null,
      "metadata": {
        "id": "uAuvbLdUBZYe"
      },
      "outputs": [],
      "source": [
        "# TrailsTable['bestFitnessValue'] = TrailsTable['bestFitnessValue'].astype(float)\n",
        "# Experiment3Trials=TrailsTable['bestFitnessValue']"
      ]
    },
    {
      "cell_type": "code",
      "execution_count": null,
      "metadata": {
        "id": "IWX18sKGXJPi"
      },
      "outputs": [],
      "source": [
        "# #Calculate the average fitness for all trails\n",
        "# bestFitnessValueAvg = statistics.mean((TrailsTable['bestFitnessValue']))\n",
        "# ExpirmentsResultsList.append([\"Ex_3\", bestFitnessValueAvg])"
      ]
    },
    {
      "cell_type": "code",
      "source": [
        "# print('The average fitness for all trails for expirment 3: ' + str(bestFitnessValueAvg))"
      ],
      "metadata": {
        "id": "S9keZ0BsWb8E"
      },
      "execution_count": null,
      "outputs": []
    },
    {
      "cell_type": "code",
      "source": [
        "# #to graph the results of the expirment we used the code from the following link: \n",
        "# https://plotly.com/python/setting-graph-size/\n",
        "# fig = go.Figure()\n",
        "\n",
        "# fig.add_trace(go.Scatter(\n",
        "#     x=TrailsTable['TrailNumber'],\n",
        "#     y= TrailsTable['bestFitnessValue']\n",
        "# ))\n",
        "\n",
        "# fig.update_layout(\n",
        "#     template=\"plotly_white\", #\"plotly\", \"plotly_white\", \"plotly_dark\", \"ggplot2\", \"seaborn\", \"simple_white\"\n",
        "#     title=\"bestFitnessValue vs Trail\",\n",
        "#     autosize=False,\n",
        "#     width=500,\n",
        "#     height=500,\n",
        "#     margin=dict(\n",
        "#         l=50,\n",
        "#         r=50,\n",
        "#         b=100,\n",
        "#         t=100,\n",
        "#         pad=4\n",
        "#     ),\n",
        "#     #paper_bgcolor=\"LightSteelBlue\",\n",
        "# )\n",
        "\n",
        "# fig.show()"
      ],
      "metadata": {
        "id": "j81x7zuBWdaJ"
      },
      "execution_count": null,
      "outputs": []
    },
    {
      "cell_type": "markdown",
      "metadata": {
        "id": "Z_VZ1_rZVujJ"
      },
      "source": [
        "**------------------------Expirment 4------------------------**"
      ]
    },
    {
      "cell_type": "code",
      "execution_count": null,
      "metadata": {
        "id": "dLuS6cInV1zN"
      },
      "outputs": [],
      "source": [
        "##Expirment 4\n",
        "# bestFitnessValueList = Expirment(100, True, 5, 5, 4)"
      ]
    },
    {
      "cell_type": "code",
      "source": [
        "# print('The Total fitness function calls for expirment 4: ' + str(fitnessFunctionCallCounter))"
      ],
      "metadata": {
        "id": "F-rr_F53Nneh"
      },
      "execution_count": null,
      "outputs": []
    },
    {
      "cell_type": "code",
      "execution_count": null,
      "metadata": {
        "id": "LC9VuhzHW_yZ"
      },
      "outputs": [],
      "source": [
        "# print('=================Trails Table=================')\n",
        "# TrailsTable = pd.DataFrame(bestFitnessValueList, columns=('ExpirmentNumber','TrailNumber', 'bestFitnessValue'))\n",
        "# TrailsTable['bestFitnessValue'] = TrailsTable['bestFitnessValue'].apply('{:0<4}'.format)\n",
        "# TrailsTable.style"
      ]
    },
    {
      "cell_type": "code",
      "execution_count": null,
      "metadata": {
        "id": "2QAa8QFCBeWn"
      },
      "outputs": [],
      "source": [
        "# TrailsTable['bestFitnessValue'] = TrailsTable['bestFitnessValue'].astype(float)\n",
        "# Experiment4Trials=TrailsTable['bestFitnessValue']"
      ]
    },
    {
      "cell_type": "code",
      "execution_count": null,
      "metadata": {
        "id": "ELIErh_5XNSr"
      },
      "outputs": [],
      "source": [
        "# #Calculate the average fitness for all trails\n",
        "# bestFitnessValueAvg = statistics.mean((TrailsTable['bestFitnessValue']))\n",
        "# ExpirmentsResultsList.append([\"Ex_4\", bestFitnessValueAvg])"
      ]
    },
    {
      "cell_type": "code",
      "source": [
        "# print('The average fitness for all trails for expirment 4: ' + str(bestFitnessValueAvg))"
      ],
      "metadata": {
        "id": "2NRkJOmgWl2P"
      },
      "execution_count": null,
      "outputs": []
    },
    {
      "cell_type": "code",
      "source": [
        "# #to graph the results of the expirment we used the code from the following link: \n",
        "# https://plotly.com/python/setting-graph-size/\n",
        "# fig = go.Figure()\n",
        "\n",
        "# fig.add_trace(go.Scatter(\n",
        "#     x=TrailsTable['TrailNumber'],\n",
        "#     y= TrailsTable['bestFitnessValue']\n",
        "# ))\n",
        "\n",
        "# fig.update_layout(\n",
        "#     template=\"plotly_white\", #\"plotly\", \"plotly_white\", \"plotly_dark\", \"ggplot2\", \"seaborn\", \"simple_white\"\n",
        "#     title=\"bestFitnessValue vs Trail\",\n",
        "#     autosize=False,\n",
        "#     width=500,\n",
        "#     height=500,\n",
        "#     margin=dict(\n",
        "#         l=50,\n",
        "#         r=50,\n",
        "#         b=100,\n",
        "#         t=100,\n",
        "#         pad=4\n",
        "#     ),\n",
        "#     #paper_bgcolor=\"LightSteelBlue\",\n",
        "# )\n",
        "\n",
        "# fig.show()"
      ],
      "metadata": {
        "id": "MIMwscAfWmlx"
      },
      "execution_count": null,
      "outputs": []
    },
    {
      "cell_type": "markdown",
      "metadata": {
        "id": "pjpZPeZUVwPF"
      },
      "source": [
        "**------------------------Expirment 5------------------------**"
      ]
    },
    {
      "cell_type": "code",
      "execution_count": null,
      "metadata": {
        "id": "XoNHkVsdV4RA"
      },
      "outputs": [],
      "source": [
        "# #Expirment 5\n",
        "# bestFitnessValueList = Expirment(10, False, 5, 5, 5)"
      ]
    },
    {
      "cell_type": "code",
      "source": [
        "# print('The Total fitness function calls for expirment 5: ' + str(fitnessFunctionCallCounter))"
      ],
      "metadata": {
        "id": "Vkcwwyv5ReJN"
      },
      "execution_count": null,
      "outputs": []
    },
    {
      "cell_type": "code",
      "execution_count": null,
      "metadata": {
        "id": "osP6sJm8XA2o"
      },
      "outputs": [],
      "source": [
        "# print('=================Trails Table=================')\n",
        "# TrailsTable = pd.DataFrame(bestFitnessValueList, columns=('ExpirmentNumber','TrailNumber', 'bestFitnessValue'))\n",
        "# TrailsTable['bestFitnessValue'] = TrailsTable['bestFitnessValue'].apply('{:0<4}'.format)\n",
        "# TrailsTable.style"
      ]
    },
    {
      "cell_type": "code",
      "execution_count": null,
      "metadata": {
        "id": "P1u8rMYBBhre"
      },
      "outputs": [],
      "source": [
        "# TrailsTable['bestFitnessValue'] = TrailsTable['bestFitnessValue'].astype(float)\n",
        "# Experiment5Trials=TrailsTable['bestFitnessValue']"
      ]
    },
    {
      "cell_type": "code",
      "execution_count": null,
      "metadata": {
        "id": "7T0brDaYYaGQ"
      },
      "outputs": [],
      "source": [
        "# #Calculate the average fitness for all trails\n",
        "# bestFitnessValueAvg = statistics.mean((TrailsTable['bestFitnessValue']))\n",
        "# ExpirmentsResultsList.append([\"Ex_5\", bestFitnessValueAvg])"
      ]
    },
    {
      "cell_type": "code",
      "source": [
        "# print('The average fitness for all trails for expirment 5: ' + str(bestFitnessValueAvg))"
      ],
      "metadata": {
        "id": "81PPUqg6W0Zd"
      },
      "execution_count": null,
      "outputs": []
    },
    {
      "cell_type": "code",
      "source": [
        "# #to graph the results of the expirment we used the code from the following link: \n",
        "# https://plotly.com/python/setting-graph-size/\n",
        "# fig = go.Figure()\n",
        "\n",
        "# fig.add_trace(go.Scatter(\n",
        "#     x=TrailsTable['TrailNumber'],\n",
        "#     y= TrailsTable['bestFitnessValue']\n",
        "# ))\n",
        "\n",
        "# fig.update_layout(\n",
        "#     template=\"plotly_white\", #\"plotly\", \"plotly_white\", \"plotly_dark\", \"ggplot2\", \"seaborn\", \"simple_white\"\n",
        "#     title=\"bestFitnessValue vs Trail\",\n",
        "#     autosize=False,\n",
        "#     width=500,\n",
        "#     height=500,\n",
        "#     margin=dict(\n",
        "#         l=50,\n",
        "#         r=50,\n",
        "#         b=100,\n",
        "#         t=100,\n",
        "#         pad=4\n",
        "#     ),\n",
        "#     #paper_bgcolor=\"LightSteelBlue\",\n",
        "# )\n",
        "\n",
        "# fig.show()"
      ],
      "metadata": {
        "id": "Xz9oqISWW1L7"
      },
      "execution_count": null,
      "outputs": []
    },
    {
      "cell_type": "markdown",
      "metadata": {
        "id": "j10VASMnVxV9"
      },
      "source": [
        "**------------------------Expirment 6------------------------**"
      ]
    },
    {
      "cell_type": "code",
      "execution_count": null,
      "metadata": {
        "id": "ceQkwihgV5ao"
      },
      "outputs": [],
      "source": [
        "# #Expirment 6\n",
        "# bestFitnessValueList = Expirment(10, True, 0, 5, 6)"
      ]
    },
    {
      "cell_type": "code",
      "source": [
        "# print('The Total fitness function calls for expirment 6: ' + str(fitnessFunctionCallCounter))"
      ],
      "metadata": {
        "id": "dU_qbM6URgz-"
      },
      "execution_count": null,
      "outputs": []
    },
    {
      "cell_type": "code",
      "execution_count": null,
      "metadata": {
        "id": "JqwHTZHEXDgL"
      },
      "outputs": [],
      "source": [
        "# print('=================Trails Table=================')\n",
        "# TrailsTable = pd.DataFrame(bestFitnessValueList, columns=('ExpirmentNumber','TrailNumber', 'bestFitnessValue'))\n",
        "# TrailsTable['bestFitnessValue'] = TrailsTable['bestFitnessValue'].apply('{:0<4}'.format)\n",
        "# TrailsTable.style"
      ]
    },
    {
      "cell_type": "code",
      "execution_count": null,
      "metadata": {
        "id": "vCu9kvIFBlE0"
      },
      "outputs": [],
      "source": [
        "# TrailsTable['bestFitnessValue'] = TrailsTable['bestFitnessValue'].astype(float)\n",
        "# Experiment6Trials=TrailsTable['bestFitnessValue']"
      ]
    },
    {
      "cell_type": "code",
      "execution_count": null,
      "metadata": {
        "id": "HAB9IZR4YeBw"
      },
      "outputs": [],
      "source": [
        "# #Calculate the average fitness for all trails\n",
        "# bestFitnessValueAvg = statistics.mean((TrailsTable['bestFitnessValue']))\n",
        "# ExpirmentsResultsList.append([\"Ex_6\", bestFitnessValueAvg])"
      ]
    },
    {
      "cell_type": "code",
      "source": [
        "# print('The average fitness for all trails for expirment 5: ' + str(bestFitnessValueAvg))"
      ],
      "metadata": {
        "id": "eY-F9L_tW-9w"
      },
      "execution_count": null,
      "outputs": []
    },
    {
      "cell_type": "code",
      "source": [
        "# #to graph the results of the expirment we used the code from the following link: \n",
        "# https://plotly.com/python/setting-graph-size/\n",
        "# fig = go.Figure()\n",
        "\n",
        "# fig.add_trace(go.Scatter(\n",
        "#     x=TrailsTable['TrailNumber'],\n",
        "#     y= TrailsTable['bestFitnessValue']\n",
        "# ))\n",
        "\n",
        "# fig.update_layout(\n",
        "#     template=\"plotly_white\", #\"plotly\", \"plotly_white\", \"plotly_dark\", \"ggplot2\", \"seaborn\", \"simple_white\"\n",
        "#     title=\"bestFitnessValue vs Trail\",\n",
        "#     autosize=False,\n",
        "#     width=500,\n",
        "#     height=500,\n",
        "#     margin=dict(\n",
        "#         l=50,\n",
        "#         r=50,\n",
        "#         b=100,\n",
        "#         t=100,\n",
        "#         pad=4\n",
        "#     ),\n",
        "#     #paper_bgcolor=\"LightSteelBlue\",\n",
        "# )\n",
        "\n",
        "# fig.show()"
      ],
      "metadata": {
        "id": "jTnrnDKSXBaY"
      },
      "execution_count": null,
      "outputs": []
    },
    {
      "cell_type": "markdown",
      "metadata": {
        "id": "Ii41J8akXUEx"
      },
      "source": [
        "**------------------------Final Results------------------------**"
      ]
    },
    {
      "cell_type": "code",
      "execution_count": null,
      "metadata": {
        "id": "I4hAeh5lTUBg"
      },
      "outputs": [],
      "source": [
        "# print('=================Expirments Table=================')\n",
        "# ExpirmentsTable = pd.DataFrame(ExpirmentsResultsList, columns=('ExpirmentNumber', 'averageFitnessValue'))\n",
        "# ExpirmentsTable['averageFitnessValue'] = ExpirmentsTable['averageFitnessValue'].apply('{:0<4}'.format)\n",
        "# ExpirmentsTable.style"
      ]
    },
    {
      "cell_type": "code",
      "source": [
        "# #to graph the results of all expirments we used the code from the following link: \n",
        "# https://plotly.com/python/setting-graph-size/\n",
        "# ExpirmentsTable['averageFitnessValue'] = ExpirmentsTable['averageFitnessValue'].astype(float)\n",
        "# fig = go.Figure()\n",
        "\n",
        "# fig.add_trace(go.Scatter(\n",
        "#     x=ExpirmentsTable['ExpirmentNumber'],\n",
        "#     y= ExpirmentsTable['averageFitnessValue']\n",
        "# ))\n",
        "\n",
        "# fig.update_layout(\n",
        "#     template=\"plotly_white\", #\"plotly\", \"plotly_white\", \"plotly_dark\", \"ggplot2\", \"seaborn\", \"simple_white\"\n",
        "#     title=\"averageFitnessValue vs Expirment\",\n",
        "#     autosize=False,\n",
        "#     width=500,\n",
        "#     height=500,\n",
        "#     margin=dict(\n",
        "#         l=50,\n",
        "#         r=50,\n",
        "#         b=100,\n",
        "#         t=100,\n",
        "#         pad=4\n",
        "#     ),\n",
        "#     #paper_bgcolor=\"LightSteelBlue\",\n",
        "# )\n",
        "\n",
        "# fig.show()"
      ],
      "metadata": {
        "id": "yi-7qHlGXFim"
      },
      "execution_count": null,
      "outputs": []
    },
    {
      "cell_type": "code",
      "execution_count": null,
      "metadata": {
        "id": "fBCAMJG0Bscg"
      },
      "outputs": [],
      "source": [
        "# #to graph the GA performance we used the code from the following link: \n",
        "# import plotly.graph_objects as go\n",
        "# df=pd.DataFrame({'NumberofTrials': range(1,6), 'Experiment1Trials': Experiment1Trials,'Experiment2Trials': Experiment2Trials,'Experiment3Trials': Experiment3Trials,'Experiment4Trials': Experiment4Trials,'Experiment5Trials': Experiment5Trials ,'Experiment6Trials': Experiment6Trials})\n",
        "\n",
        "# fig = go.Figure()\n",
        "# fig.add_trace(go.Scatter(\n",
        "#     x=df['NumberofTrials'],\n",
        "#     y=df['Experiment1Trials'],\n",
        "#     name=\"Experiment1\"\n",
        "# ))\n",
        "# fig.add_trace(go.Scatter(\n",
        "#     x=df['NumberofTrials'],\n",
        "#     y=df['Experiment2Trials'],\n",
        "#     name=\"Experiment2\"\n",
        "# ))\n",
        "# fig.add_trace(go.Scatter(\n",
        "#     x=df['NumberofTrials'],\n",
        "#     y=df['Experiment3Trials'],\n",
        "#     name=\"Experiment3\"\n",
        "# ))\n",
        "# fig.add_trace(go.Scatter(\n",
        "#     x=df['NumberofTrials'],\n",
        "#     y=df['Experiment4Trials'],\n",
        "#     name=\"Experiment4\"\n",
        "# ))\n",
        "# fig.add_trace(go.Scatter(\n",
        "#     x=df['NumberofTrials'],\n",
        "#     y=df['Experiment5Trials'],\n",
        "#     name=\"Experiment5\"\n",
        "# ))\n",
        "# fig.add_trace(go.Scatter(\n",
        "#     x=df['NumberofTrials'],\n",
        "#     y=df['Experiment6Trials'],\n",
        "#     name=\"Experiment6\"\n",
        "# ))\n",
        "# fig.update_layout(\n",
        "#     autosize=False,\n",
        "#     template=\"plotly_white\", #\"plotly\", \"plotly_white\", \"plotly_dark\", \"ggplot2\", \"seaborn\", \"simple_white\"\n",
        "#     title=\"GA performance\",\n",
        "#     width=1000,\n",
        "#     height=700,\n",
        "#     margin=dict(\n",
        "#         l=100,\n",
        "#         r=100,\n",
        "#         b=100,\n",
        "#         t=100,\n",
        "#         pad=2\n",
        "#     ),\n",
        "#     #  yaxis = dict(\n",
        "        \n",
        "#     #     tick0 =0,\n",
        "#     #     dtick =10000\n",
        "#     # ),\n",
        "#     #paper_bgcolor=\"LightSteelBlue\",  \n",
        "# )\n",
        "# fig.update_xaxes(title_text=\"Number of trials\")\n",
        "# fig.update_yaxes(title_text=\"Best fitness function\")\n",
        "\n",
        "# fig.show()"
      ]
    }
  ],
  "metadata": {
    "accelerator": "GPU",
    "colab": {
      "collapsed_sections": [],
      "provenance": []
    },
    "kernelspec": {
      "display_name": "Python 3",
      "name": "python3"
    },
    "language_info": {
      "name": "python"
    }
  },
  "nbformat": 4,
  "nbformat_minor": 0
}